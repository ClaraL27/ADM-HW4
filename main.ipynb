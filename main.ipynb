{
 "cells": [
  {
   "cell_type": "markdown",
   "metadata": {},
   "source": [
    "# 2. Grouping songs together!"
   ]
  },
  {
   "cell_type": "code",
   "execution_count": 24,
   "metadata": {},
   "outputs": [],
   "source": [
    "import pandas as pd\n",
    "from tqdm.notebook import tqdm\n",
    "from sklearn.preprocessing import StandardScaler\n",
    "from sklearn.decomposition import PCA"
   ]
  },
  {
   "cell_type": "markdown",
   "metadata": {},
   "source": [
    "## 2.1 Getting your data!"
   ]
  },
  {
   "cell_type": "code",
   "execution_count": 22,
   "metadata": {},
   "outputs": [],
   "source": [
    "echonest = pd.read_csv('csv/echonest.csv')\n",
    "features = pd.read_csv('csv/features.csv')\n",
    "tracks = pd.read_csv('csv/tracks.csv')"
   ]
  },
  {
   "cell_type": "code",
   "execution_count": 3,
   "metadata": {},
   "outputs": [
    {
     "name": "stdout",
     "output_type": "stream",
     "text": [
      "<class 'pandas.core.frame.DataFrame'>\n",
      "RangeIndex: 13129 entries, 0 to 13128\n",
      "Columns: 250 entries, track_id to temporal_features_223\n",
      "dtypes: float64(244), int64(1), object(5)\n",
      "memory usage: 25.0+ MB\n"
     ]
    }
   ],
   "source": [
    "echonest.info()"
   ]
  },
  {
   "cell_type": "code",
   "execution_count": 4,
   "metadata": {},
   "outputs": [
    {
     "name": "stdout",
     "output_type": "stream",
     "text": [
      "<class 'pandas.core.frame.DataFrame'>\n",
      "RangeIndex: 106574 entries, 0 to 106573\n",
      "Columns: 519 entries, track_id to zcr_std_01\n",
      "dtypes: float64(518), int64(1)\n",
      "memory usage: 422.0 MB\n"
     ]
    }
   ],
   "source": [
    "features.info()"
   ]
  },
  {
   "cell_type": "code",
   "execution_count": 5,
   "metadata": {},
   "outputs": [
    {
     "name": "stdout",
     "output_type": "stream",
     "text": [
      "<class 'pandas.core.frame.DataFrame'>\n",
      "RangeIndex: 106574 entries, 0 to 106573\n",
      "Data columns (total 53 columns):\n",
      " #   Column                    Non-Null Count   Dtype  \n",
      "---  ------                    --------------   -----  \n",
      " 0   track_id                  106574 non-null  int64  \n",
      " 1   album_comments            106574 non-null  int64  \n",
      " 2   album_date_created        103045 non-null  object \n",
      " 3   album_date_released       70294 non-null   object \n",
      " 4   album_engineer            15295 non-null   object \n",
      " 5   album_favorites           106574 non-null  int64  \n",
      " 6   album_id                  106574 non-null  int64  \n",
      " 7   album_information         83149 non-null   object \n",
      " 8   album_listens             106574 non-null  int64  \n",
      " 9   album_producer            18060 non-null   object \n",
      " 10  album_tags                106574 non-null  object \n",
      " 11  album_title               105549 non-null  object \n",
      " 12  album_tracks              106574 non-null  int64  \n",
      " 13  album_type                100066 non-null  object \n",
      " 14  artist_active_year_begin  22711 non-null   object \n",
      " 15  artist_active_year_end    5375 non-null    object \n",
      " 16  artist_associated_labels  14271 non-null   object \n",
      " 17  artist_bio                71156 non-null   object \n",
      " 18  artist_comments           106574 non-null  int64  \n",
      " 19  artist_date_created       105718 non-null  object \n",
      " 20  artist_favorites          106574 non-null  int64  \n",
      " 21  artist_id                 106574 non-null  int64  \n",
      " 22  artist_latitude           44544 non-null   float64\n",
      " 23  artist_location           70210 non-null   object \n",
      " 24  artist_longitude          44544 non-null   float64\n",
      " 25  artist_members            46849 non-null   object \n",
      " 26  artist_name               106574 non-null  object \n",
      " 27  artist_related_projects   13152 non-null   object \n",
      " 28  artist_tags               106574 non-null  object \n",
      " 29  artist_website            79256 non-null   object \n",
      " 30  artist_wikipedia_page     5581 non-null    object \n",
      " 31  set_split                 106574 non-null  object \n",
      " 32  set_subset                106574 non-null  object \n",
      " 33  track_bit_rate            106574 non-null  int64  \n",
      " 34  track_comments            106574 non-null  int64  \n",
      " 35  track_composer            3670 non-null    object \n",
      " 36  track_date_created        106574 non-null  object \n",
      " 37  track_date_recorded       6159 non-null    object \n",
      " 38  track_duration            106574 non-null  int64  \n",
      " 39  track_favorites           106574 non-null  int64  \n",
      " 40  track_genre_top           49598 non-null   object \n",
      " 41  track_genres              106574 non-null  object \n",
      " 42  track_genres_all          106574 non-null  object \n",
      " 43  track_information         2349 non-null    object \n",
      " 44  track_interest            106574 non-null  int64  \n",
      " 45  track_language_code       15024 non-null   object \n",
      " 46  track_license             106487 non-null  object \n",
      " 47  track_listens             106574 non-null  int64  \n",
      " 48  track_lyricist            311 non-null     object \n",
      " 49  track_number              106574 non-null  int64  \n",
      " 50  track_publisher           1263 non-null    object \n",
      " 51  track_tags                106574 non-null  object \n",
      " 52  track_title               106573 non-null  object \n",
      "dtypes: float64(2), int64(16), object(35)\n",
      "memory usage: 43.1+ MB\n"
     ]
    }
   ],
   "source": [
    "tracks.info()"
   ]
  },
  {
   "cell_type": "code",
   "execution_count": 6,
   "outputs": [
    {
     "name": "stdout",
     "output_type": "stream",
     "text": [
      "['track_id', 'audio_features_acousticness', 'audio_features_danceability', 'audio_features_energy', 'audio_features_instrumentalness', 'audio_features_liveness', 'audio_features_speechiness', 'audio_features_tempo', 'audio_features_valence', 'metadata_album_date', 'metadata_album_name', 'metadata_artist_latitude', 'metadata_artist_location', 'metadata_artist_longitude', 'metadata_artist_name', 'metadata_release', 'ranks_artist_discovery_rank', 'ranks_artist_familiarity_rank', 'ranks_artist_hotttnesss_rank', 'ranks_song_currency_rank', 'ranks_song_hotttnesss_rank', 'social_features_artist_discovery', 'social_features_artist_familiarity', 'social_features_artist_hotttnesss', 'social_features_song_currency', 'social_features_song_hotttnesss', 'temporal_features_000', 'temporal_features_001', 'temporal_features_002', 'temporal_features_003', 'temporal_features_004', 'temporal_features_005', 'temporal_features_006', 'temporal_features_007', 'temporal_features_008', 'temporal_features_009', 'temporal_features_010', 'temporal_features_011', 'temporal_features_012', 'temporal_features_013', 'temporal_features_014', 'temporal_features_015', 'temporal_features_016', 'temporal_features_017', 'temporal_features_018', 'temporal_features_019', 'temporal_features_020', 'temporal_features_021', 'temporal_features_022', 'temporal_features_023', 'temporal_features_024', 'temporal_features_025', 'temporal_features_026', 'temporal_features_027', 'temporal_features_028', 'temporal_features_029', 'temporal_features_030', 'temporal_features_031', 'temporal_features_032', 'temporal_features_033', 'temporal_features_034', 'temporal_features_035', 'temporal_features_036', 'temporal_features_037', 'temporal_features_038', 'temporal_features_039', 'temporal_features_040', 'temporal_features_041', 'temporal_features_042', 'temporal_features_043', 'temporal_features_044', 'temporal_features_045', 'temporal_features_046', 'temporal_features_047', 'temporal_features_048', 'temporal_features_049', 'temporal_features_050', 'temporal_features_051', 'temporal_features_052', 'temporal_features_053', 'temporal_features_054', 'temporal_features_055', 'temporal_features_056', 'temporal_features_057', 'temporal_features_058', 'temporal_features_059', 'temporal_features_060', 'temporal_features_061', 'temporal_features_062', 'temporal_features_063', 'temporal_features_064', 'temporal_features_065', 'temporal_features_066', 'temporal_features_067', 'temporal_features_068', 'temporal_features_069', 'temporal_features_070', 'temporal_features_071', 'temporal_features_072', 'temporal_features_073', 'temporal_features_074', 'temporal_features_075', 'temporal_features_076', 'temporal_features_077', 'temporal_features_078', 'temporal_features_079', 'temporal_features_080', 'temporal_features_081', 'temporal_features_082', 'temporal_features_083', 'temporal_features_084', 'temporal_features_085', 'temporal_features_086', 'temporal_features_087', 'temporal_features_088', 'temporal_features_089', 'temporal_features_090', 'temporal_features_091', 'temporal_features_092', 'temporal_features_093', 'temporal_features_094', 'temporal_features_095', 'temporal_features_096', 'temporal_features_097', 'temporal_features_098', 'temporal_features_099', 'temporal_features_100', 'temporal_features_101', 'temporal_features_102', 'temporal_features_103', 'temporal_features_104', 'temporal_features_105', 'temporal_features_106', 'temporal_features_107', 'temporal_features_108', 'temporal_features_109', 'temporal_features_110', 'temporal_features_111', 'temporal_features_112', 'temporal_features_113', 'temporal_features_114', 'temporal_features_115', 'temporal_features_116', 'temporal_features_117', 'temporal_features_118', 'temporal_features_119', 'temporal_features_120', 'temporal_features_121', 'temporal_features_122', 'temporal_features_123', 'temporal_features_124', 'temporal_features_125', 'temporal_features_126', 'temporal_features_127', 'temporal_features_128', 'temporal_features_129', 'temporal_features_130', 'temporal_features_131', 'temporal_features_132', 'temporal_features_133', 'temporal_features_134', 'temporal_features_135', 'temporal_features_136', 'temporal_features_137', 'temporal_features_138', 'temporal_features_139', 'temporal_features_140', 'temporal_features_141', 'temporal_features_142', 'temporal_features_143', 'temporal_features_144', 'temporal_features_145', 'temporal_features_146', 'temporal_features_147', 'temporal_features_148', 'temporal_features_149', 'temporal_features_150', 'temporal_features_151', 'temporal_features_152', 'temporal_features_153', 'temporal_features_154', 'temporal_features_155', 'temporal_features_156', 'temporal_features_157', 'temporal_features_158', 'temporal_features_159', 'temporal_features_160', 'temporal_features_161', 'temporal_features_162', 'temporal_features_163', 'temporal_features_164', 'temporal_features_165', 'temporal_features_166', 'temporal_features_167', 'temporal_features_168', 'temporal_features_169', 'temporal_features_170', 'temporal_features_171', 'temporal_features_172', 'temporal_features_173', 'temporal_features_174', 'temporal_features_175', 'temporal_features_176', 'temporal_features_177', 'temporal_features_178', 'temporal_features_179', 'temporal_features_180', 'temporal_features_181', 'temporal_features_182', 'temporal_features_183', 'temporal_features_184', 'temporal_features_185', 'temporal_features_186', 'temporal_features_187', 'temporal_features_188', 'temporal_features_189', 'temporal_features_190', 'temporal_features_191', 'temporal_features_192', 'temporal_features_193', 'temporal_features_194', 'temporal_features_195', 'temporal_features_196', 'temporal_features_197', 'temporal_features_198', 'temporal_features_199', 'temporal_features_200', 'temporal_features_201', 'temporal_features_202', 'temporal_features_203', 'temporal_features_204', 'temporal_features_205', 'temporal_features_206', 'temporal_features_207', 'temporal_features_208', 'temporal_features_209', 'temporal_features_210', 'temporal_features_211', 'temporal_features_212', 'temporal_features_213', 'temporal_features_214', 'temporal_features_215', 'temporal_features_216', 'temporal_features_217', 'temporal_features_218', 'temporal_features_219', 'temporal_features_220', 'temporal_features_221', 'temporal_features_222', 'temporal_features_223']\n"
     ]
    }
   ],
   "source": [
    "print(echonest.columns.to_list())"
   ],
   "metadata": {
    "collapsed": false,
    "pycharm": {
     "name": "#%%\n"
    }
   }
  },
  {
   "cell_type": "code",
   "source": [
    "print(features.columns.to_list())"
   ],
   "metadata": {
    "collapsed": false,
    "pycharm": {
     "name": "#%%\n"
    }
   },
   "execution_count": 7,
   "outputs": [
    {
     "name": "stdout",
     "output_type": "stream",
     "text": [
      "['track_id', 'chroma_cens_kurtosis_01', 'chroma_cens_kurtosis_02', 'chroma_cens_kurtosis_03', 'chroma_cens_kurtosis_04', 'chroma_cens_kurtosis_05', 'chroma_cens_kurtosis_06', 'chroma_cens_kurtosis_07', 'chroma_cens_kurtosis_08', 'chroma_cens_kurtosis_09', 'chroma_cens_kurtosis_10', 'chroma_cens_kurtosis_11', 'chroma_cens_kurtosis_12', 'chroma_cens_max_01', 'chroma_cens_max_02', 'chroma_cens_max_03', 'chroma_cens_max_04', 'chroma_cens_max_05', 'chroma_cens_max_06', 'chroma_cens_max_07', 'chroma_cens_max_08', 'chroma_cens_max_09', 'chroma_cens_max_10', 'chroma_cens_max_11', 'chroma_cens_max_12', 'chroma_cens_mean_01', 'chroma_cens_mean_02', 'chroma_cens_mean_03', 'chroma_cens_mean_04', 'chroma_cens_mean_05', 'chroma_cens_mean_06', 'chroma_cens_mean_07', 'chroma_cens_mean_08', 'chroma_cens_mean_09', 'chroma_cens_mean_10', 'chroma_cens_mean_11', 'chroma_cens_mean_12', 'chroma_cens_median_01', 'chroma_cens_median_02', 'chroma_cens_median_03', 'chroma_cens_median_04', 'chroma_cens_median_05', 'chroma_cens_median_06', 'chroma_cens_median_07', 'chroma_cens_median_08', 'chroma_cens_median_09', 'chroma_cens_median_10', 'chroma_cens_median_11', 'chroma_cens_median_12', 'chroma_cens_min_01', 'chroma_cens_min_02', 'chroma_cens_min_03', 'chroma_cens_min_04', 'chroma_cens_min_05', 'chroma_cens_min_06', 'chroma_cens_min_07', 'chroma_cens_min_08', 'chroma_cens_min_09', 'chroma_cens_min_10', 'chroma_cens_min_11', 'chroma_cens_min_12', 'chroma_cens_skew_01', 'chroma_cens_skew_02', 'chroma_cens_skew_03', 'chroma_cens_skew_04', 'chroma_cens_skew_05', 'chroma_cens_skew_06', 'chroma_cens_skew_07', 'chroma_cens_skew_08', 'chroma_cens_skew_09', 'chroma_cens_skew_10', 'chroma_cens_skew_11', 'chroma_cens_skew_12', 'chroma_cens_std_01', 'chroma_cens_std_02', 'chroma_cens_std_03', 'chroma_cens_std_04', 'chroma_cens_std_05', 'chroma_cens_std_06', 'chroma_cens_std_07', 'chroma_cens_std_08', 'chroma_cens_std_09', 'chroma_cens_std_10', 'chroma_cens_std_11', 'chroma_cens_std_12', 'chroma_cqt_kurtosis_01', 'chroma_cqt_kurtosis_02', 'chroma_cqt_kurtosis_03', 'chroma_cqt_kurtosis_04', 'chroma_cqt_kurtosis_05', 'chroma_cqt_kurtosis_06', 'chroma_cqt_kurtosis_07', 'chroma_cqt_kurtosis_08', 'chroma_cqt_kurtosis_09', 'chroma_cqt_kurtosis_10', 'chroma_cqt_kurtosis_11', 'chroma_cqt_kurtosis_12', 'chroma_cqt_max_01', 'chroma_cqt_max_02', 'chroma_cqt_max_03', 'chroma_cqt_max_04', 'chroma_cqt_max_05', 'chroma_cqt_max_06', 'chroma_cqt_max_07', 'chroma_cqt_max_08', 'chroma_cqt_max_09', 'chroma_cqt_max_10', 'chroma_cqt_max_11', 'chroma_cqt_max_12', 'chroma_cqt_mean_01', 'chroma_cqt_mean_02', 'chroma_cqt_mean_03', 'chroma_cqt_mean_04', 'chroma_cqt_mean_05', 'chroma_cqt_mean_06', 'chroma_cqt_mean_07', 'chroma_cqt_mean_08', 'chroma_cqt_mean_09', 'chroma_cqt_mean_10', 'chroma_cqt_mean_11', 'chroma_cqt_mean_12', 'chroma_cqt_median_01', 'chroma_cqt_median_02', 'chroma_cqt_median_03', 'chroma_cqt_median_04', 'chroma_cqt_median_05', 'chroma_cqt_median_06', 'chroma_cqt_median_07', 'chroma_cqt_median_08', 'chroma_cqt_median_09', 'chroma_cqt_median_10', 'chroma_cqt_median_11', 'chroma_cqt_median_12', 'chroma_cqt_min_01', 'chroma_cqt_min_02', 'chroma_cqt_min_03', 'chroma_cqt_min_04', 'chroma_cqt_min_05', 'chroma_cqt_min_06', 'chroma_cqt_min_07', 'chroma_cqt_min_08', 'chroma_cqt_min_09', 'chroma_cqt_min_10', 'chroma_cqt_min_11', 'chroma_cqt_min_12', 'chroma_cqt_skew_01', 'chroma_cqt_skew_02', 'chroma_cqt_skew_03', 'chroma_cqt_skew_04', 'chroma_cqt_skew_05', 'chroma_cqt_skew_06', 'chroma_cqt_skew_07', 'chroma_cqt_skew_08', 'chroma_cqt_skew_09', 'chroma_cqt_skew_10', 'chroma_cqt_skew_11', 'chroma_cqt_skew_12', 'chroma_cqt_std_01', 'chroma_cqt_std_02', 'chroma_cqt_std_03', 'chroma_cqt_std_04', 'chroma_cqt_std_05', 'chroma_cqt_std_06', 'chroma_cqt_std_07', 'chroma_cqt_std_08', 'chroma_cqt_std_09', 'chroma_cqt_std_10', 'chroma_cqt_std_11', 'chroma_cqt_std_12', 'chroma_stft_kurtosis_01', 'chroma_stft_kurtosis_02', 'chroma_stft_kurtosis_03', 'chroma_stft_kurtosis_04', 'chroma_stft_kurtosis_05', 'chroma_stft_kurtosis_06', 'chroma_stft_kurtosis_07', 'chroma_stft_kurtosis_08', 'chroma_stft_kurtosis_09', 'chroma_stft_kurtosis_10', 'chroma_stft_kurtosis_11', 'chroma_stft_kurtosis_12', 'chroma_stft_max_01', 'chroma_stft_max_02', 'chroma_stft_max_03', 'chroma_stft_max_04', 'chroma_stft_max_05', 'chroma_stft_max_06', 'chroma_stft_max_07', 'chroma_stft_max_08', 'chroma_stft_max_09', 'chroma_stft_max_10', 'chroma_stft_max_11', 'chroma_stft_max_12', 'chroma_stft_mean_01', 'chroma_stft_mean_02', 'chroma_stft_mean_03', 'chroma_stft_mean_04', 'chroma_stft_mean_05', 'chroma_stft_mean_06', 'chroma_stft_mean_07', 'chroma_stft_mean_08', 'chroma_stft_mean_09', 'chroma_stft_mean_10', 'chroma_stft_mean_11', 'chroma_stft_mean_12', 'chroma_stft_median_01', 'chroma_stft_median_02', 'chroma_stft_median_03', 'chroma_stft_median_04', 'chroma_stft_median_05', 'chroma_stft_median_06', 'chroma_stft_median_07', 'chroma_stft_median_08', 'chroma_stft_median_09', 'chroma_stft_median_10', 'chroma_stft_median_11', 'chroma_stft_median_12', 'chroma_stft_min_01', 'chroma_stft_min_02', 'chroma_stft_min_03', 'chroma_stft_min_04', 'chroma_stft_min_05', 'chroma_stft_min_06', 'chroma_stft_min_07', 'chroma_stft_min_08', 'chroma_stft_min_09', 'chroma_stft_min_10', 'chroma_stft_min_11', 'chroma_stft_min_12', 'chroma_stft_skew_01', 'chroma_stft_skew_02', 'chroma_stft_skew_03', 'chroma_stft_skew_04', 'chroma_stft_skew_05', 'chroma_stft_skew_06', 'chroma_stft_skew_07', 'chroma_stft_skew_08', 'chroma_stft_skew_09', 'chroma_stft_skew_10', 'chroma_stft_skew_11', 'chroma_stft_skew_12', 'chroma_stft_std_01', 'chroma_stft_std_02', 'chroma_stft_std_03', 'chroma_stft_std_04', 'chroma_stft_std_05', 'chroma_stft_std_06', 'chroma_stft_std_07', 'chroma_stft_std_08', 'chroma_stft_std_09', 'chroma_stft_std_10', 'chroma_stft_std_11', 'chroma_stft_std_12', 'mfcc_kurtosis_01', 'mfcc_kurtosis_02', 'mfcc_kurtosis_03', 'mfcc_kurtosis_04', 'mfcc_kurtosis_05', 'mfcc_kurtosis_06', 'mfcc_kurtosis_07', 'mfcc_kurtosis_08', 'mfcc_kurtosis_09', 'mfcc_kurtosis_10', 'mfcc_kurtosis_11', 'mfcc_kurtosis_12', 'mfcc_kurtosis_13', 'mfcc_kurtosis_14', 'mfcc_kurtosis_15', 'mfcc_kurtosis_16', 'mfcc_kurtosis_17', 'mfcc_kurtosis_18', 'mfcc_kurtosis_19', 'mfcc_kurtosis_20', 'mfcc_max_01', 'mfcc_max_02', 'mfcc_max_03', 'mfcc_max_04', 'mfcc_max_05', 'mfcc_max_06', 'mfcc_max_07', 'mfcc_max_08', 'mfcc_max_09', 'mfcc_max_10', 'mfcc_max_11', 'mfcc_max_12', 'mfcc_max_13', 'mfcc_max_14', 'mfcc_max_15', 'mfcc_max_16', 'mfcc_max_17', 'mfcc_max_18', 'mfcc_max_19', 'mfcc_max_20', 'mfcc_mean_01', 'mfcc_mean_02', 'mfcc_mean_03', 'mfcc_mean_04', 'mfcc_mean_05', 'mfcc_mean_06', 'mfcc_mean_07', 'mfcc_mean_08', 'mfcc_mean_09', 'mfcc_mean_10', 'mfcc_mean_11', 'mfcc_mean_12', 'mfcc_mean_13', 'mfcc_mean_14', 'mfcc_mean_15', 'mfcc_mean_16', 'mfcc_mean_17', 'mfcc_mean_18', 'mfcc_mean_19', 'mfcc_mean_20', 'mfcc_median_01', 'mfcc_median_02', 'mfcc_median_03', 'mfcc_median_04', 'mfcc_median_05', 'mfcc_median_06', 'mfcc_median_07', 'mfcc_median_08', 'mfcc_median_09', 'mfcc_median_10', 'mfcc_median_11', 'mfcc_median_12', 'mfcc_median_13', 'mfcc_median_14', 'mfcc_median_15', 'mfcc_median_16', 'mfcc_median_17', 'mfcc_median_18', 'mfcc_median_19', 'mfcc_median_20', 'mfcc_min_01', 'mfcc_min_02', 'mfcc_min_03', 'mfcc_min_04', 'mfcc_min_05', 'mfcc_min_06', 'mfcc_min_07', 'mfcc_min_08', 'mfcc_min_09', 'mfcc_min_10', 'mfcc_min_11', 'mfcc_min_12', 'mfcc_min_13', 'mfcc_min_14', 'mfcc_min_15', 'mfcc_min_16', 'mfcc_min_17', 'mfcc_min_18', 'mfcc_min_19', 'mfcc_min_20', 'mfcc_skew_01', 'mfcc_skew_02', 'mfcc_skew_03', 'mfcc_skew_04', 'mfcc_skew_05', 'mfcc_skew_06', 'mfcc_skew_07', 'mfcc_skew_08', 'mfcc_skew_09', 'mfcc_skew_10', 'mfcc_skew_11', 'mfcc_skew_12', 'mfcc_skew_13', 'mfcc_skew_14', 'mfcc_skew_15', 'mfcc_skew_16', 'mfcc_skew_17', 'mfcc_skew_18', 'mfcc_skew_19', 'mfcc_skew_20', 'mfcc_std_01', 'mfcc_std_02', 'mfcc_std_03', 'mfcc_std_04', 'mfcc_std_05', 'mfcc_std_06', 'mfcc_std_07', 'mfcc_std_08', 'mfcc_std_09', 'mfcc_std_10', 'mfcc_std_11', 'mfcc_std_12', 'mfcc_std_13', 'mfcc_std_14', 'mfcc_std_15', 'mfcc_std_16', 'mfcc_std_17', 'mfcc_std_18', 'mfcc_std_19', 'mfcc_std_20', 'rmse_kurtosis_01', 'rmse_max_01', 'rmse_mean_01', 'rmse_median_01', 'rmse_min_01', 'rmse_skew_01', 'rmse_std_01', 'spectral_bandwidth_kurtosis_01', 'spectral_bandwidth_max_01', 'spectral_bandwidth_mean_01', 'spectral_bandwidth_median_01', 'spectral_bandwidth_min_01', 'spectral_bandwidth_skew_01', 'spectral_bandwidth_std_01', 'spectral_centroid_kurtosis_01', 'spectral_centroid_max_01', 'spectral_centroid_mean_01', 'spectral_centroid_median_01', 'spectral_centroid_min_01', 'spectral_centroid_skew_01', 'spectral_centroid_std_01', 'spectral_contrast_kurtosis_01', 'spectral_contrast_kurtosis_02', 'spectral_contrast_kurtosis_03', 'spectral_contrast_kurtosis_04', 'spectral_contrast_kurtosis_05', 'spectral_contrast_kurtosis_06', 'spectral_contrast_kurtosis_07', 'spectral_contrast_max_01', 'spectral_contrast_max_02', 'spectral_contrast_max_03', 'spectral_contrast_max_04', 'spectral_contrast_max_05', 'spectral_contrast_max_06', 'spectral_contrast_max_07', 'spectral_contrast_mean_01', 'spectral_contrast_mean_02', 'spectral_contrast_mean_03', 'spectral_contrast_mean_04', 'spectral_contrast_mean_05', 'spectral_contrast_mean_06', 'spectral_contrast_mean_07', 'spectral_contrast_median_01', 'spectral_contrast_median_02', 'spectral_contrast_median_03', 'spectral_contrast_median_04', 'spectral_contrast_median_05', 'spectral_contrast_median_06', 'spectral_contrast_median_07', 'spectral_contrast_min_01', 'spectral_contrast_min_02', 'spectral_contrast_min_03', 'spectral_contrast_min_04', 'spectral_contrast_min_05', 'spectral_contrast_min_06', 'spectral_contrast_min_07', 'spectral_contrast_skew_01', 'spectral_contrast_skew_02', 'spectral_contrast_skew_03', 'spectral_contrast_skew_04', 'spectral_contrast_skew_05', 'spectral_contrast_skew_06', 'spectral_contrast_skew_07', 'spectral_contrast_std_01', 'spectral_contrast_std_02', 'spectral_contrast_std_03', 'spectral_contrast_std_04', 'spectral_contrast_std_05', 'spectral_contrast_std_06', 'spectral_contrast_std_07', 'spectral_rolloff_kurtosis_01', 'spectral_rolloff_max_01', 'spectral_rolloff_mean_01', 'spectral_rolloff_median_01', 'spectral_rolloff_min_01', 'spectral_rolloff_skew_01', 'spectral_rolloff_std_01', 'tonnetz_kurtosis_01', 'tonnetz_kurtosis_02', 'tonnetz_kurtosis_03', 'tonnetz_kurtosis_04', 'tonnetz_kurtosis_05', 'tonnetz_kurtosis_06', 'tonnetz_max_01', 'tonnetz_max_02', 'tonnetz_max_03', 'tonnetz_max_04', 'tonnetz_max_05', 'tonnetz_max_06', 'tonnetz_mean_01', 'tonnetz_mean_02', 'tonnetz_mean_03', 'tonnetz_mean_04', 'tonnetz_mean_05', 'tonnetz_mean_06', 'tonnetz_median_01', 'tonnetz_median_02', 'tonnetz_median_03', 'tonnetz_median_04', 'tonnetz_median_05', 'tonnetz_median_06', 'tonnetz_min_01', 'tonnetz_min_02', 'tonnetz_min_03', 'tonnetz_min_04', 'tonnetz_min_05', 'tonnetz_min_06', 'tonnetz_skew_01', 'tonnetz_skew_02', 'tonnetz_skew_03', 'tonnetz_skew_04', 'tonnetz_skew_05', 'tonnetz_skew_06', 'tonnetz_std_01', 'tonnetz_std_02', 'tonnetz_std_03', 'tonnetz_std_04', 'tonnetz_std_05', 'tonnetz_std_06', 'zcr_kurtosis_01', 'zcr_max_01', 'zcr_mean_01', 'zcr_median_01', 'zcr_min_01', 'zcr_skew_01', 'zcr_std_01']\n"
     ]
    }
   ]
  },
  {
   "cell_type": "code",
   "execution_count": 8,
   "outputs": [
    {
     "name": "stdout",
     "output_type": "stream",
     "text": [
      "['track_id', 'album_comments', 'album_date_created', 'album_date_released', 'album_engineer', 'album_favorites', 'album_id', 'album_information', 'album_listens', 'album_producer', 'album_tags', 'album_title', 'album_tracks', 'album_type', 'artist_active_year_begin', 'artist_active_year_end', 'artist_associated_labels', 'artist_bio', 'artist_comments', 'artist_date_created', 'artist_favorites', 'artist_id', 'artist_latitude', 'artist_location', 'artist_longitude', 'artist_members', 'artist_name', 'artist_related_projects', 'artist_tags', 'artist_website', 'artist_wikipedia_page', 'set_split', 'set_subset', 'track_bit_rate', 'track_comments', 'track_composer', 'track_date_created', 'track_date_recorded', 'track_duration', 'track_favorites', 'track_genre_top', 'track_genres', 'track_genres_all', 'track_information', 'track_interest', 'track_language_code', 'track_license', 'track_listens', 'track_lyricist', 'track_number', 'track_publisher', 'track_tags', 'track_title']\n"
     ]
    }
   ],
   "source": [
    "print(tracks.columns.to_list())"
   ],
   "metadata": {
    "collapsed": false,
    "pycharm": {
     "name": "#%%\n"
    }
   }
  },
  {
   "cell_type": "code",
   "execution_count": 9,
   "metadata": {},
   "outputs": [
    {
     "data": {
      "text/plain": "   track_id  audio_features_acousticness  audio_features_danceability  \\\n0         2                     0.416675                     0.675894   \n1         3                     0.374408                     0.528643   \n2         5                     0.043567                     0.745566   \n3        10                     0.951670                     0.658179   \n4       134                     0.452217                     0.513238   \n5       139                     0.106550                     0.260911   \n6       140                     0.376312                     0.734079   \n7       141                     0.963657                     0.435933   \n8       142                     0.662881                     0.379065   \n9       144                     0.909011                     0.443643   \n\n   audio_features_energy  audio_features_instrumentalness  \\\n0               0.634476                         0.010628   \n1               0.817461                         0.001851   \n2               0.701470                         0.000697   \n3               0.924525                         0.965427   \n4               0.560410                         0.019443   \n5               0.607067                         0.835087   \n6               0.265685                         0.669581   \n7               0.075632                         0.345493   \n8               0.823856                         0.910266   \n9               0.641997                         0.924092   \n\n   audio_features_liveness  audio_features_speechiness  audio_features_tempo  \\\n0                 0.177647                    0.159310               165.922   \n1                 0.105880                    0.461818               126.957   \n2                 0.373143                    0.124595               100.260   \n3                 0.115474                    0.032985               111.562   \n4                 0.096567                    0.525519               114.290   \n5                 0.223676                    0.030569               196.961   \n6                 0.085995                    0.039068               107.952   \n7                 0.105686                    0.026658                33.477   \n8                 0.088705                    0.079090               147.781   \n9                 0.267669                    0.089659               128.537   \n\n   audio_features_valence metadata_album_date  ... temporal_features_214  \\\n0                0.576661                 NaN  ...             -1.992303   \n1                0.269240                 NaN  ...             -1.582331   \n2                0.621661                 NaN  ...             -2.288358   \n3                0.963590          2008-03-11  ...             -3.662988   \n4                0.894072                 NaN  ...             -1.452696   \n5                0.160267                 NaN  ...             -3.078667   \n6                0.609991                 NaN  ...             -0.934696   \n7                0.163950                 NaN  ...             -0.457298   \n8                0.092868                2005  ...             -1.125605   \n9                0.788251                 NaN  ...             -3.454056   \n\n   temporal_features_215 temporal_features_216  temporal_features_217  \\\n0               6.805694              0.233070               0.192880   \n1               8.889308              0.258464               0.220905   \n2              11.527109              0.256821               0.237820   \n3              21.508228              0.283352               0.267070   \n4               2.356398              0.234686               0.199550   \n5              12.411567              0.270802               0.272700   \n6              -0.260981              0.322232               0.277980   \n7              -0.165962              0.437503               0.307390   \n8               1.478418              0.215844               0.209660   \n9              16.247305              0.245023               0.226080   \n\n  temporal_features_218 temporal_features_219  temporal_features_220  \\\n0              0.027455               0.06408                3.67696   \n1              0.081368               0.06413                6.08277   \n2              0.060122               0.06014                5.92649   \n3              0.125704               0.08082                8.41401   \n4              0.149332               0.06440               11.26707   \n5              0.025242               0.06404                2.43669   \n6              0.136747               0.07533                9.86272   \n7              0.368764               0.06263               11.18884   \n8              0.015754               0.06921                3.91102   \n9              0.033509               0.07066                2.98367   \n\n   temporal_features_221  temporal_features_222  temporal_features_223  \n0                3.61288              13.316690             262.929749  \n1                6.01864              16.673548             325.581085  \n2                5.86635              16.013849             356.755737  \n3                8.33319              21.317064             483.403809  \n4               11.20267              26.454180             751.147705  \n5                2.37265               3.897095              37.866043  \n6                9.78739              21.981621             562.229431  \n7               11.12621              13.481531             232.993546  \n8                3.84181              12.598523             346.813049  \n9                2.91301              10.123219             146.145737  \n\n[10 rows x 250 columns]",
      "text/html": "<div>\n<style scoped>\n    .dataframe tbody tr th:only-of-type {\n        vertical-align: middle;\n    }\n\n    .dataframe tbody tr th {\n        vertical-align: top;\n    }\n\n    .dataframe thead th {\n        text-align: right;\n    }\n</style>\n<table border=\"1\" class=\"dataframe\">\n  <thead>\n    <tr style=\"text-align: right;\">\n      <th></th>\n      <th>track_id</th>\n      <th>audio_features_acousticness</th>\n      <th>audio_features_danceability</th>\n      <th>audio_features_energy</th>\n      <th>audio_features_instrumentalness</th>\n      <th>audio_features_liveness</th>\n      <th>audio_features_speechiness</th>\n      <th>audio_features_tempo</th>\n      <th>audio_features_valence</th>\n      <th>metadata_album_date</th>\n      <th>...</th>\n      <th>temporal_features_214</th>\n      <th>temporal_features_215</th>\n      <th>temporal_features_216</th>\n      <th>temporal_features_217</th>\n      <th>temporal_features_218</th>\n      <th>temporal_features_219</th>\n      <th>temporal_features_220</th>\n      <th>temporal_features_221</th>\n      <th>temporal_features_222</th>\n      <th>temporal_features_223</th>\n    </tr>\n  </thead>\n  <tbody>\n    <tr>\n      <th>0</th>\n      <td>2</td>\n      <td>0.416675</td>\n      <td>0.675894</td>\n      <td>0.634476</td>\n      <td>0.010628</td>\n      <td>0.177647</td>\n      <td>0.159310</td>\n      <td>165.922</td>\n      <td>0.576661</td>\n      <td>NaN</td>\n      <td>...</td>\n      <td>-1.992303</td>\n      <td>6.805694</td>\n      <td>0.233070</td>\n      <td>0.192880</td>\n      <td>0.027455</td>\n      <td>0.06408</td>\n      <td>3.67696</td>\n      <td>3.61288</td>\n      <td>13.316690</td>\n      <td>262.929749</td>\n    </tr>\n    <tr>\n      <th>1</th>\n      <td>3</td>\n      <td>0.374408</td>\n      <td>0.528643</td>\n      <td>0.817461</td>\n      <td>0.001851</td>\n      <td>0.105880</td>\n      <td>0.461818</td>\n      <td>126.957</td>\n      <td>0.269240</td>\n      <td>NaN</td>\n      <td>...</td>\n      <td>-1.582331</td>\n      <td>8.889308</td>\n      <td>0.258464</td>\n      <td>0.220905</td>\n      <td>0.081368</td>\n      <td>0.06413</td>\n      <td>6.08277</td>\n      <td>6.01864</td>\n      <td>16.673548</td>\n      <td>325.581085</td>\n    </tr>\n    <tr>\n      <th>2</th>\n      <td>5</td>\n      <td>0.043567</td>\n      <td>0.745566</td>\n      <td>0.701470</td>\n      <td>0.000697</td>\n      <td>0.373143</td>\n      <td>0.124595</td>\n      <td>100.260</td>\n      <td>0.621661</td>\n      <td>NaN</td>\n      <td>...</td>\n      <td>-2.288358</td>\n      <td>11.527109</td>\n      <td>0.256821</td>\n      <td>0.237820</td>\n      <td>0.060122</td>\n      <td>0.06014</td>\n      <td>5.92649</td>\n      <td>5.86635</td>\n      <td>16.013849</td>\n      <td>356.755737</td>\n    </tr>\n    <tr>\n      <th>3</th>\n      <td>10</td>\n      <td>0.951670</td>\n      <td>0.658179</td>\n      <td>0.924525</td>\n      <td>0.965427</td>\n      <td>0.115474</td>\n      <td>0.032985</td>\n      <td>111.562</td>\n      <td>0.963590</td>\n      <td>2008-03-11</td>\n      <td>...</td>\n      <td>-3.662988</td>\n      <td>21.508228</td>\n      <td>0.283352</td>\n      <td>0.267070</td>\n      <td>0.125704</td>\n      <td>0.08082</td>\n      <td>8.41401</td>\n      <td>8.33319</td>\n      <td>21.317064</td>\n      <td>483.403809</td>\n    </tr>\n    <tr>\n      <th>4</th>\n      <td>134</td>\n      <td>0.452217</td>\n      <td>0.513238</td>\n      <td>0.560410</td>\n      <td>0.019443</td>\n      <td>0.096567</td>\n      <td>0.525519</td>\n      <td>114.290</td>\n      <td>0.894072</td>\n      <td>NaN</td>\n      <td>...</td>\n      <td>-1.452696</td>\n      <td>2.356398</td>\n      <td>0.234686</td>\n      <td>0.199550</td>\n      <td>0.149332</td>\n      <td>0.06440</td>\n      <td>11.26707</td>\n      <td>11.20267</td>\n      <td>26.454180</td>\n      <td>751.147705</td>\n    </tr>\n    <tr>\n      <th>5</th>\n      <td>139</td>\n      <td>0.106550</td>\n      <td>0.260911</td>\n      <td>0.607067</td>\n      <td>0.835087</td>\n      <td>0.223676</td>\n      <td>0.030569</td>\n      <td>196.961</td>\n      <td>0.160267</td>\n      <td>NaN</td>\n      <td>...</td>\n      <td>-3.078667</td>\n      <td>12.411567</td>\n      <td>0.270802</td>\n      <td>0.272700</td>\n      <td>0.025242</td>\n      <td>0.06404</td>\n      <td>2.43669</td>\n      <td>2.37265</td>\n      <td>3.897095</td>\n      <td>37.866043</td>\n    </tr>\n    <tr>\n      <th>6</th>\n      <td>140</td>\n      <td>0.376312</td>\n      <td>0.734079</td>\n      <td>0.265685</td>\n      <td>0.669581</td>\n      <td>0.085995</td>\n      <td>0.039068</td>\n      <td>107.952</td>\n      <td>0.609991</td>\n      <td>NaN</td>\n      <td>...</td>\n      <td>-0.934696</td>\n      <td>-0.260981</td>\n      <td>0.322232</td>\n      <td>0.277980</td>\n      <td>0.136747</td>\n      <td>0.07533</td>\n      <td>9.86272</td>\n      <td>9.78739</td>\n      <td>21.981621</td>\n      <td>562.229431</td>\n    </tr>\n    <tr>\n      <th>7</th>\n      <td>141</td>\n      <td>0.963657</td>\n      <td>0.435933</td>\n      <td>0.075632</td>\n      <td>0.345493</td>\n      <td>0.105686</td>\n      <td>0.026658</td>\n      <td>33.477</td>\n      <td>0.163950</td>\n      <td>NaN</td>\n      <td>...</td>\n      <td>-0.457298</td>\n      <td>-0.165962</td>\n      <td>0.437503</td>\n      <td>0.307390</td>\n      <td>0.368764</td>\n      <td>0.06263</td>\n      <td>11.18884</td>\n      <td>11.12621</td>\n      <td>13.481531</td>\n      <td>232.993546</td>\n    </tr>\n    <tr>\n      <th>8</th>\n      <td>142</td>\n      <td>0.662881</td>\n      <td>0.379065</td>\n      <td>0.823856</td>\n      <td>0.910266</td>\n      <td>0.088705</td>\n      <td>0.079090</td>\n      <td>147.781</td>\n      <td>0.092868</td>\n      <td>2005</td>\n      <td>...</td>\n      <td>-1.125605</td>\n      <td>1.478418</td>\n      <td>0.215844</td>\n      <td>0.209660</td>\n      <td>0.015754</td>\n      <td>0.06921</td>\n      <td>3.91102</td>\n      <td>3.84181</td>\n      <td>12.598523</td>\n      <td>346.813049</td>\n    </tr>\n    <tr>\n      <th>9</th>\n      <td>144</td>\n      <td>0.909011</td>\n      <td>0.443643</td>\n      <td>0.641997</td>\n      <td>0.924092</td>\n      <td>0.267669</td>\n      <td>0.089659</td>\n      <td>128.537</td>\n      <td>0.788251</td>\n      <td>NaN</td>\n      <td>...</td>\n      <td>-3.454056</td>\n      <td>16.247305</td>\n      <td>0.245023</td>\n      <td>0.226080</td>\n      <td>0.033509</td>\n      <td>0.07066</td>\n      <td>2.98367</td>\n      <td>2.91301</td>\n      <td>10.123219</td>\n      <td>146.145737</td>\n    </tr>\n  </tbody>\n</table>\n<p>10 rows × 250 columns</p>\n</div>"
     },
     "execution_count": 9,
     "metadata": {},
     "output_type": "execute_result"
    }
   ],
   "source": [
    "echonest.head(10)"
   ]
  },
  {
   "cell_type": "code",
   "execution_count": 10,
   "metadata": {},
   "outputs": [
    {
     "data": {
      "text/plain": "   track_id  chroma_cens_kurtosis_01  chroma_cens_kurtosis_02  \\\n0         2                 7.180653                 5.230309   \n1         3                 1.888963                 0.760539   \n2         5                 0.527563                -0.077654   \n3        10                 3.702245                -0.291193   \n4        20                -0.193837                -0.198527   \n5        26                -0.699535                -0.684158   \n6        30                -0.721487                -0.848560   \n7        46                -0.119708                -0.858814   \n8        48                -1.054053                 0.932339   \n9       134                 0.918445                 0.674147   \n\n   chroma_cens_kurtosis_03  chroma_cens_kurtosis_04  chroma_cens_kurtosis_05  \\\n0                 0.249321                 1.347620                 1.482478   \n1                 0.345297                 2.295201                 1.654031   \n2                -0.279610                 0.685883                 1.937570   \n3                 2.196742                -0.234449                 1.367364   \n4                 0.201546                 0.258556                 0.775204   \n5                 0.048825                 0.042659                -0.818967   \n6                 0.890904                 0.088620                -0.445513   \n7                 2.362546                 0.106584                -1.315912   \n8                 0.528064                -1.035338                -1.000682   \n9                 0.577818                 1.281117                 0.933746   \n\n   chroma_cens_kurtosis_06  chroma_cens_kurtosis_07  chroma_cens_kurtosis_08  \\\n0                 0.531371                 1.481593                 2.691455   \n1                 0.067592                 1.366848                 1.054094   \n2                 0.880839                -0.923192                -0.927232   \n3                 0.998411                 1.770694                 1.604566   \n4                 0.084794                -0.289294                -0.816410   \n5                -0.917123                -0.901834                -0.066845   \n6                -1.271170                -1.240190                -1.343765   \n7                -1.220354                -1.668162                -0.516033   \n8                -1.119304                 1.166990                -1.002603   \n9                 0.078177                 1.199204                -0.175223   \n\n   chroma_cens_kurtosis_09  ...  tonnetz_std_04  tonnetz_std_05  \\\n0                 0.866868  ...        0.054125        0.012226   \n1                 0.108103  ...        0.063831        0.014212   \n2                 0.666617  ...        0.040730        0.012691   \n3                 0.521217  ...        0.074358        0.017952   \n4                 0.043851  ...        0.095003        0.022492   \n5                -0.291037  ...        0.103717        0.025541   \n6                -0.905600  ...        0.141693        0.020426   \n7                -0.536395  ...        0.132632        0.033212   \n8                -1.094999  ...        0.141955        0.024654   \n9                 0.925482  ...        0.058766        0.016322   \n\n   tonnetz_std_06  zcr_kurtosis_01  zcr_max_01  zcr_mean_01  zcr_median_01  \\\n0        0.012111         5.758890    0.459473     0.085629       0.071289   \n1        0.017740         2.824694    0.466309     0.084578       0.063965   \n2        0.014759         6.808415    0.375000     0.053114       0.041504   \n3        0.013921        21.434212    0.452148     0.077515       0.071777   \n4        0.021355        16.669037    0.469727     0.047225       0.040039   \n5        0.023846        41.645809    0.250488     0.018388       0.015625   \n6        0.025418         8.166595    0.546875     0.054417       0.036133   \n7        0.021310        14.731083    0.223633     0.036601       0.032227   \n8        0.025203        24.550789    0.371582     0.033015       0.022461   \n9        0.015819         4.731087    0.419434     0.064370       0.050781   \n\n   zcr_min_01  zcr_skew_01  zcr_std_01  \n0    0.000000     2.089872    0.061448  \n1    0.000000     1.716724    0.069330  \n2    0.000000     2.193303    0.044861  \n3    0.000000     3.542325    0.040800  \n4    0.000977     3.189831    0.030993  \n5    0.000000     4.690596    0.014598  \n6    0.002441     2.244708    0.052674  \n7    0.000000     2.848736    0.020713  \n8    0.000000     4.406733    0.039016  \n9    0.000000     1.806106    0.054623  \n\n[10 rows x 519 columns]",
      "text/html": "<div>\n<style scoped>\n    .dataframe tbody tr th:only-of-type {\n        vertical-align: middle;\n    }\n\n    .dataframe tbody tr th {\n        vertical-align: top;\n    }\n\n    .dataframe thead th {\n        text-align: right;\n    }\n</style>\n<table border=\"1\" class=\"dataframe\">\n  <thead>\n    <tr style=\"text-align: right;\">\n      <th></th>\n      <th>track_id</th>\n      <th>chroma_cens_kurtosis_01</th>\n      <th>chroma_cens_kurtosis_02</th>\n      <th>chroma_cens_kurtosis_03</th>\n      <th>chroma_cens_kurtosis_04</th>\n      <th>chroma_cens_kurtosis_05</th>\n      <th>chroma_cens_kurtosis_06</th>\n      <th>chroma_cens_kurtosis_07</th>\n      <th>chroma_cens_kurtosis_08</th>\n      <th>chroma_cens_kurtosis_09</th>\n      <th>...</th>\n      <th>tonnetz_std_04</th>\n      <th>tonnetz_std_05</th>\n      <th>tonnetz_std_06</th>\n      <th>zcr_kurtosis_01</th>\n      <th>zcr_max_01</th>\n      <th>zcr_mean_01</th>\n      <th>zcr_median_01</th>\n      <th>zcr_min_01</th>\n      <th>zcr_skew_01</th>\n      <th>zcr_std_01</th>\n    </tr>\n  </thead>\n  <tbody>\n    <tr>\n      <th>0</th>\n      <td>2</td>\n      <td>7.180653</td>\n      <td>5.230309</td>\n      <td>0.249321</td>\n      <td>1.347620</td>\n      <td>1.482478</td>\n      <td>0.531371</td>\n      <td>1.481593</td>\n      <td>2.691455</td>\n      <td>0.866868</td>\n      <td>...</td>\n      <td>0.054125</td>\n      <td>0.012226</td>\n      <td>0.012111</td>\n      <td>5.758890</td>\n      <td>0.459473</td>\n      <td>0.085629</td>\n      <td>0.071289</td>\n      <td>0.000000</td>\n      <td>2.089872</td>\n      <td>0.061448</td>\n    </tr>\n    <tr>\n      <th>1</th>\n      <td>3</td>\n      <td>1.888963</td>\n      <td>0.760539</td>\n      <td>0.345297</td>\n      <td>2.295201</td>\n      <td>1.654031</td>\n      <td>0.067592</td>\n      <td>1.366848</td>\n      <td>1.054094</td>\n      <td>0.108103</td>\n      <td>...</td>\n      <td>0.063831</td>\n      <td>0.014212</td>\n      <td>0.017740</td>\n      <td>2.824694</td>\n      <td>0.466309</td>\n      <td>0.084578</td>\n      <td>0.063965</td>\n      <td>0.000000</td>\n      <td>1.716724</td>\n      <td>0.069330</td>\n    </tr>\n    <tr>\n      <th>2</th>\n      <td>5</td>\n      <td>0.527563</td>\n      <td>-0.077654</td>\n      <td>-0.279610</td>\n      <td>0.685883</td>\n      <td>1.937570</td>\n      <td>0.880839</td>\n      <td>-0.923192</td>\n      <td>-0.927232</td>\n      <td>0.666617</td>\n      <td>...</td>\n      <td>0.040730</td>\n      <td>0.012691</td>\n      <td>0.014759</td>\n      <td>6.808415</td>\n      <td>0.375000</td>\n      <td>0.053114</td>\n      <td>0.041504</td>\n      <td>0.000000</td>\n      <td>2.193303</td>\n      <td>0.044861</td>\n    </tr>\n    <tr>\n      <th>3</th>\n      <td>10</td>\n      <td>3.702245</td>\n      <td>-0.291193</td>\n      <td>2.196742</td>\n      <td>-0.234449</td>\n      <td>1.367364</td>\n      <td>0.998411</td>\n      <td>1.770694</td>\n      <td>1.604566</td>\n      <td>0.521217</td>\n      <td>...</td>\n      <td>0.074358</td>\n      <td>0.017952</td>\n      <td>0.013921</td>\n      <td>21.434212</td>\n      <td>0.452148</td>\n      <td>0.077515</td>\n      <td>0.071777</td>\n      <td>0.000000</td>\n      <td>3.542325</td>\n      <td>0.040800</td>\n    </tr>\n    <tr>\n      <th>4</th>\n      <td>20</td>\n      <td>-0.193837</td>\n      <td>-0.198527</td>\n      <td>0.201546</td>\n      <td>0.258556</td>\n      <td>0.775204</td>\n      <td>0.084794</td>\n      <td>-0.289294</td>\n      <td>-0.816410</td>\n      <td>0.043851</td>\n      <td>...</td>\n      <td>0.095003</td>\n      <td>0.022492</td>\n      <td>0.021355</td>\n      <td>16.669037</td>\n      <td>0.469727</td>\n      <td>0.047225</td>\n      <td>0.040039</td>\n      <td>0.000977</td>\n      <td>3.189831</td>\n      <td>0.030993</td>\n    </tr>\n    <tr>\n      <th>5</th>\n      <td>26</td>\n      <td>-0.699535</td>\n      <td>-0.684158</td>\n      <td>0.048825</td>\n      <td>0.042659</td>\n      <td>-0.818967</td>\n      <td>-0.917123</td>\n      <td>-0.901834</td>\n      <td>-0.066845</td>\n      <td>-0.291037</td>\n      <td>...</td>\n      <td>0.103717</td>\n      <td>0.025541</td>\n      <td>0.023846</td>\n      <td>41.645809</td>\n      <td>0.250488</td>\n      <td>0.018388</td>\n      <td>0.015625</td>\n      <td>0.000000</td>\n      <td>4.690596</td>\n      <td>0.014598</td>\n    </tr>\n    <tr>\n      <th>6</th>\n      <td>30</td>\n      <td>-0.721487</td>\n      <td>-0.848560</td>\n      <td>0.890904</td>\n      <td>0.088620</td>\n      <td>-0.445513</td>\n      <td>-1.271170</td>\n      <td>-1.240190</td>\n      <td>-1.343765</td>\n      <td>-0.905600</td>\n      <td>...</td>\n      <td>0.141693</td>\n      <td>0.020426</td>\n      <td>0.025418</td>\n      <td>8.166595</td>\n      <td>0.546875</td>\n      <td>0.054417</td>\n      <td>0.036133</td>\n      <td>0.002441</td>\n      <td>2.244708</td>\n      <td>0.052674</td>\n    </tr>\n    <tr>\n      <th>7</th>\n      <td>46</td>\n      <td>-0.119708</td>\n      <td>-0.858814</td>\n      <td>2.362546</td>\n      <td>0.106584</td>\n      <td>-1.315912</td>\n      <td>-1.220354</td>\n      <td>-1.668162</td>\n      <td>-0.516033</td>\n      <td>-0.536395</td>\n      <td>...</td>\n      <td>0.132632</td>\n      <td>0.033212</td>\n      <td>0.021310</td>\n      <td>14.731083</td>\n      <td>0.223633</td>\n      <td>0.036601</td>\n      <td>0.032227</td>\n      <td>0.000000</td>\n      <td>2.848736</td>\n      <td>0.020713</td>\n    </tr>\n    <tr>\n      <th>8</th>\n      <td>48</td>\n      <td>-1.054053</td>\n      <td>0.932339</td>\n      <td>0.528064</td>\n      <td>-1.035338</td>\n      <td>-1.000682</td>\n      <td>-1.119304</td>\n      <td>1.166990</td>\n      <td>-1.002603</td>\n      <td>-1.094999</td>\n      <td>...</td>\n      <td>0.141955</td>\n      <td>0.024654</td>\n      <td>0.025203</td>\n      <td>24.550789</td>\n      <td>0.371582</td>\n      <td>0.033015</td>\n      <td>0.022461</td>\n      <td>0.000000</td>\n      <td>4.406733</td>\n      <td>0.039016</td>\n    </tr>\n    <tr>\n      <th>9</th>\n      <td>134</td>\n      <td>0.918445</td>\n      <td>0.674147</td>\n      <td>0.577818</td>\n      <td>1.281117</td>\n      <td>0.933746</td>\n      <td>0.078177</td>\n      <td>1.199204</td>\n      <td>-0.175223</td>\n      <td>0.925482</td>\n      <td>...</td>\n      <td>0.058766</td>\n      <td>0.016322</td>\n      <td>0.015819</td>\n      <td>4.731087</td>\n      <td>0.419434</td>\n      <td>0.064370</td>\n      <td>0.050781</td>\n      <td>0.000000</td>\n      <td>1.806106</td>\n      <td>0.054623</td>\n    </tr>\n  </tbody>\n</table>\n<p>10 rows × 519 columns</p>\n</div>"
     },
     "execution_count": 10,
     "metadata": {},
     "output_type": "execute_result"
    }
   ],
   "source": [
    "features.head(10)"
   ]
  },
  {
   "cell_type": "code",
   "execution_count": 11,
   "metadata": {},
   "outputs": [
    {
     "data": {
      "text/plain": "   track_id  album_comments   album_date_created  album_date_released  \\\n0         2               0  2008-11-26 01:44:45  2009-01-05 00:00:00   \n1         3               0  2008-11-26 01:44:45  2009-01-05 00:00:00   \n2         5               0  2008-11-26 01:44:45  2009-01-05 00:00:00   \n3        10               0  2008-11-26 01:45:08  2008-02-06 00:00:00   \n4        20               0  2008-11-26 01:45:05  2009-01-06 00:00:00   \n5        26               0  2008-11-26 01:45:05  2009-01-06 00:00:00   \n6        30               0  2008-11-26 01:45:05  2009-01-06 00:00:00   \n7        46               0  2008-11-26 01:45:05  2009-01-06 00:00:00   \n8        48               0  2008-11-26 01:45:05  2009-01-06 00:00:00   \n9       134               0  2008-11-26 01:44:45  2009-01-05 00:00:00   \n\n  album_engineer  album_favorites  album_id  \\\n0            NaN                4         1   \n1            NaN                4         1   \n2            NaN                4         1   \n3            NaN                4         6   \n4            NaN                2         4   \n5            NaN                2         4   \n6            NaN                2         4   \n7            NaN                2         4   \n8            NaN                2         4   \n9            NaN                4         1   \n\n                           album_information  album_listens album_producer  \\\n0                                    <p></p>           6073            NaN   \n1                                    <p></p>           6073            NaN   \n2                                    <p></p>           6073            NaN   \n3                                        NaN          47632            NaN   \n4  <p> \"spiritual songs\" from Nicky Cook</p>           2710            NaN   \n5  <p> \"spiritual songs\" from Nicky Cook</p>           2710            NaN   \n6  <p> \"spiritual songs\" from Nicky Cook</p>           2710            NaN   \n7  <p> \"spiritual songs\" from Nicky Cook</p>           2710            NaN   \n8  <p> \"spiritual songs\" from Nicky Cook</p>           2710            NaN   \n9                                    <p></p>           6073            NaN   \n\n   ... track_information track_interest  track_language_code  \\\n0  ...               NaN           4656                   en   \n1  ...               NaN           1470                   en   \n2  ...               NaN           1933                   en   \n3  ...               NaN          54881                   en   \n4  ...               NaN            978                   en   \n5  ...               NaN           1060                   en   \n6  ...               NaN            718                   en   \n7  ...               NaN            252                   en   \n8  ...               NaN            247                   en   \n9  ...               NaN           1126                   en   \n\n                                       track_license track_listens  \\\n0  Attribution-NonCommercial-ShareAlike 3.0 Inter...          1293   \n1  Attribution-NonCommercial-ShareAlike 3.0 Inter...           514   \n2  Attribution-NonCommercial-ShareAlike 3.0 Inter...          1151   \n3  Attribution-NonCommercial-NoDerivatives (aka M...         50135   \n4  Attribution-NonCommercial-NoDerivatives (aka M...           361   \n5  Attribution-NonCommercial-NoDerivatives (aka M...           193   \n6  Attribution-NonCommercial-NoDerivatives (aka M...           612   \n7  Attribution-NonCommercial-NoDerivatives (aka M...           171   \n8  Attribution-NonCommercial-NoDerivatives (aka M...           173   \n9  Attribution-NonCommercial-ShareAlike 3.0 Inter...           943   \n\n  track_lyricist track_number track_publisher  track_tags          track_title  \n0            NaN            3             NaN          []                 Food  \n1            NaN            4             NaN          []         Electric Ave  \n2            NaN            6             NaN          []           This World  \n3            NaN            1             NaN          []              Freeway  \n4            NaN            3             NaN          []      Spiritual Level  \n5            NaN            4             NaN          []  Where is your Love?  \n6            NaN            5             NaN          []            Too Happy  \n7            NaN            8             NaN          []             Yosemite  \n8            NaN            9             NaN          []       Light of Light  \n9            NaN            5             NaN          []         Street Music  \n\n[10 rows x 53 columns]",
      "text/html": "<div>\n<style scoped>\n    .dataframe tbody tr th:only-of-type {\n        vertical-align: middle;\n    }\n\n    .dataframe tbody tr th {\n        vertical-align: top;\n    }\n\n    .dataframe thead th {\n        text-align: right;\n    }\n</style>\n<table border=\"1\" class=\"dataframe\">\n  <thead>\n    <tr style=\"text-align: right;\">\n      <th></th>\n      <th>track_id</th>\n      <th>album_comments</th>\n      <th>album_date_created</th>\n      <th>album_date_released</th>\n      <th>album_engineer</th>\n      <th>album_favorites</th>\n      <th>album_id</th>\n      <th>album_information</th>\n      <th>album_listens</th>\n      <th>album_producer</th>\n      <th>...</th>\n      <th>track_information</th>\n      <th>track_interest</th>\n      <th>track_language_code</th>\n      <th>track_license</th>\n      <th>track_listens</th>\n      <th>track_lyricist</th>\n      <th>track_number</th>\n      <th>track_publisher</th>\n      <th>track_tags</th>\n      <th>track_title</th>\n    </tr>\n  </thead>\n  <tbody>\n    <tr>\n      <th>0</th>\n      <td>2</td>\n      <td>0</td>\n      <td>2008-11-26 01:44:45</td>\n      <td>2009-01-05 00:00:00</td>\n      <td>NaN</td>\n      <td>4</td>\n      <td>1</td>\n      <td>&lt;p&gt;&lt;/p&gt;</td>\n      <td>6073</td>\n      <td>NaN</td>\n      <td>...</td>\n      <td>NaN</td>\n      <td>4656</td>\n      <td>en</td>\n      <td>Attribution-NonCommercial-ShareAlike 3.0 Inter...</td>\n      <td>1293</td>\n      <td>NaN</td>\n      <td>3</td>\n      <td>NaN</td>\n      <td>[]</td>\n      <td>Food</td>\n    </tr>\n    <tr>\n      <th>1</th>\n      <td>3</td>\n      <td>0</td>\n      <td>2008-11-26 01:44:45</td>\n      <td>2009-01-05 00:00:00</td>\n      <td>NaN</td>\n      <td>4</td>\n      <td>1</td>\n      <td>&lt;p&gt;&lt;/p&gt;</td>\n      <td>6073</td>\n      <td>NaN</td>\n      <td>...</td>\n      <td>NaN</td>\n      <td>1470</td>\n      <td>en</td>\n      <td>Attribution-NonCommercial-ShareAlike 3.0 Inter...</td>\n      <td>514</td>\n      <td>NaN</td>\n      <td>4</td>\n      <td>NaN</td>\n      <td>[]</td>\n      <td>Electric Ave</td>\n    </tr>\n    <tr>\n      <th>2</th>\n      <td>5</td>\n      <td>0</td>\n      <td>2008-11-26 01:44:45</td>\n      <td>2009-01-05 00:00:00</td>\n      <td>NaN</td>\n      <td>4</td>\n      <td>1</td>\n      <td>&lt;p&gt;&lt;/p&gt;</td>\n      <td>6073</td>\n      <td>NaN</td>\n      <td>...</td>\n      <td>NaN</td>\n      <td>1933</td>\n      <td>en</td>\n      <td>Attribution-NonCommercial-ShareAlike 3.0 Inter...</td>\n      <td>1151</td>\n      <td>NaN</td>\n      <td>6</td>\n      <td>NaN</td>\n      <td>[]</td>\n      <td>This World</td>\n    </tr>\n    <tr>\n      <th>3</th>\n      <td>10</td>\n      <td>0</td>\n      <td>2008-11-26 01:45:08</td>\n      <td>2008-02-06 00:00:00</td>\n      <td>NaN</td>\n      <td>4</td>\n      <td>6</td>\n      <td>NaN</td>\n      <td>47632</td>\n      <td>NaN</td>\n      <td>...</td>\n      <td>NaN</td>\n      <td>54881</td>\n      <td>en</td>\n      <td>Attribution-NonCommercial-NoDerivatives (aka M...</td>\n      <td>50135</td>\n      <td>NaN</td>\n      <td>1</td>\n      <td>NaN</td>\n      <td>[]</td>\n      <td>Freeway</td>\n    </tr>\n    <tr>\n      <th>4</th>\n      <td>20</td>\n      <td>0</td>\n      <td>2008-11-26 01:45:05</td>\n      <td>2009-01-06 00:00:00</td>\n      <td>NaN</td>\n      <td>2</td>\n      <td>4</td>\n      <td>&lt;p&gt; \"spiritual songs\" from Nicky Cook&lt;/p&gt;</td>\n      <td>2710</td>\n      <td>NaN</td>\n      <td>...</td>\n      <td>NaN</td>\n      <td>978</td>\n      <td>en</td>\n      <td>Attribution-NonCommercial-NoDerivatives (aka M...</td>\n      <td>361</td>\n      <td>NaN</td>\n      <td>3</td>\n      <td>NaN</td>\n      <td>[]</td>\n      <td>Spiritual Level</td>\n    </tr>\n    <tr>\n      <th>5</th>\n      <td>26</td>\n      <td>0</td>\n      <td>2008-11-26 01:45:05</td>\n      <td>2009-01-06 00:00:00</td>\n      <td>NaN</td>\n      <td>2</td>\n      <td>4</td>\n      <td>&lt;p&gt; \"spiritual songs\" from Nicky Cook&lt;/p&gt;</td>\n      <td>2710</td>\n      <td>NaN</td>\n      <td>...</td>\n      <td>NaN</td>\n      <td>1060</td>\n      <td>en</td>\n      <td>Attribution-NonCommercial-NoDerivatives (aka M...</td>\n      <td>193</td>\n      <td>NaN</td>\n      <td>4</td>\n      <td>NaN</td>\n      <td>[]</td>\n      <td>Where is your Love?</td>\n    </tr>\n    <tr>\n      <th>6</th>\n      <td>30</td>\n      <td>0</td>\n      <td>2008-11-26 01:45:05</td>\n      <td>2009-01-06 00:00:00</td>\n      <td>NaN</td>\n      <td>2</td>\n      <td>4</td>\n      <td>&lt;p&gt; \"spiritual songs\" from Nicky Cook&lt;/p&gt;</td>\n      <td>2710</td>\n      <td>NaN</td>\n      <td>...</td>\n      <td>NaN</td>\n      <td>718</td>\n      <td>en</td>\n      <td>Attribution-NonCommercial-NoDerivatives (aka M...</td>\n      <td>612</td>\n      <td>NaN</td>\n      <td>5</td>\n      <td>NaN</td>\n      <td>[]</td>\n      <td>Too Happy</td>\n    </tr>\n    <tr>\n      <th>7</th>\n      <td>46</td>\n      <td>0</td>\n      <td>2008-11-26 01:45:05</td>\n      <td>2009-01-06 00:00:00</td>\n      <td>NaN</td>\n      <td>2</td>\n      <td>4</td>\n      <td>&lt;p&gt; \"spiritual songs\" from Nicky Cook&lt;/p&gt;</td>\n      <td>2710</td>\n      <td>NaN</td>\n      <td>...</td>\n      <td>NaN</td>\n      <td>252</td>\n      <td>en</td>\n      <td>Attribution-NonCommercial-NoDerivatives (aka M...</td>\n      <td>171</td>\n      <td>NaN</td>\n      <td>8</td>\n      <td>NaN</td>\n      <td>[]</td>\n      <td>Yosemite</td>\n    </tr>\n    <tr>\n      <th>8</th>\n      <td>48</td>\n      <td>0</td>\n      <td>2008-11-26 01:45:05</td>\n      <td>2009-01-06 00:00:00</td>\n      <td>NaN</td>\n      <td>2</td>\n      <td>4</td>\n      <td>&lt;p&gt; \"spiritual songs\" from Nicky Cook&lt;/p&gt;</td>\n      <td>2710</td>\n      <td>NaN</td>\n      <td>...</td>\n      <td>NaN</td>\n      <td>247</td>\n      <td>en</td>\n      <td>Attribution-NonCommercial-NoDerivatives (aka M...</td>\n      <td>173</td>\n      <td>NaN</td>\n      <td>9</td>\n      <td>NaN</td>\n      <td>[]</td>\n      <td>Light of Light</td>\n    </tr>\n    <tr>\n      <th>9</th>\n      <td>134</td>\n      <td>0</td>\n      <td>2008-11-26 01:44:45</td>\n      <td>2009-01-05 00:00:00</td>\n      <td>NaN</td>\n      <td>4</td>\n      <td>1</td>\n      <td>&lt;p&gt;&lt;/p&gt;</td>\n      <td>6073</td>\n      <td>NaN</td>\n      <td>...</td>\n      <td>NaN</td>\n      <td>1126</td>\n      <td>en</td>\n      <td>Attribution-NonCommercial-ShareAlike 3.0 Inter...</td>\n      <td>943</td>\n      <td>NaN</td>\n      <td>5</td>\n      <td>NaN</td>\n      <td>[]</td>\n      <td>Street Music</td>\n    </tr>\n  </tbody>\n</table>\n<p>10 rows × 53 columns</p>\n</div>"
     },
     "execution_count": 11,
     "metadata": {},
     "output_type": "execute_result"
    }
   ],
   "source": [
    "tracks.head(10)"
   ]
  },
  {
   "cell_type": "code",
   "execution_count": 12,
   "outputs": [
    {
     "name": "stdout",
     "output_type": "stream",
     "text": [
      "True\n",
      "True\n"
     ]
    }
   ],
   "source": [
    "set_echonest = set(echonest.track_id.to_list())\n",
    "set_features = set(features.track_id.to_list())\n",
    "set_tracks = set(tracks.track_id.to_list())\n",
    "echo_feat = set_echonest.issubset(set_features)\n",
    "echo_trac = set_echonest.issubset(set_tracks)\n",
    "print(echo_feat)\n",
    "print(echo_trac)"
   ],
   "metadata": {
    "collapsed": false,
    "pycharm": {
     "name": "#%%\n"
    }
   }
  },
  {
   "cell_type": "code",
   "execution_count": 13,
   "metadata": {},
   "outputs": [],
   "source": [
    "#merge\n",
    "new_df = pd.merge(echonest, features, on='track_id', how='inner')\n",
    "main_df = pd.merge(new_df, tracks, on='track_id', how='inner')"
   ]
  },
  {
   "cell_type": "code",
   "execution_count": 15,
   "metadata": {
    "pycharm": {
     "name": "#%%\n"
    }
   },
   "outputs": [
    {
     "data": {
      "text/plain": "   track_id  audio_features_acousticness  audio_features_danceability  \\\n0         2                     0.416675                     0.675894   \n1         3                     0.374408                     0.528643   \n2         5                     0.043567                     0.745566   \n3        10                     0.951670                     0.658179   \n4       134                     0.452217                     0.513238   \n\n   audio_features_energy  audio_features_instrumentalness  \\\n0               0.634476                         0.010628   \n1               0.817461                         0.001851   \n2               0.701470                         0.000697   \n3               0.924525                         0.965427   \n4               0.560410                         0.019443   \n\n   audio_features_liveness  audio_features_speechiness  audio_features_tempo  \\\n0                 0.177647                    0.159310               165.922   \n1                 0.105880                    0.461818               126.957   \n2                 0.373143                    0.124595               100.260   \n3                 0.115474                    0.032985               111.562   \n4                 0.096567                    0.525519               114.290   \n\n   audio_features_valence metadata_album_date  ... track_information  \\\n0                0.576661                 NaN  ...               NaN   \n1                0.269240                 NaN  ...               NaN   \n2                0.621661                 NaN  ...               NaN   \n3                0.963590          2008-03-11  ...               NaN   \n4                0.894072                 NaN  ...               NaN   \n\n   track_interest track_language_code  \\\n0            4656                  en   \n1            1470                  en   \n2            1933                  en   \n3           54881                  en   \n4            1126                  en   \n\n                                       track_license track_listens  \\\n0  Attribution-NonCommercial-ShareAlike 3.0 Inter...          1293   \n1  Attribution-NonCommercial-ShareAlike 3.0 Inter...           514   \n2  Attribution-NonCommercial-ShareAlike 3.0 Inter...          1151   \n3  Attribution-NonCommercial-NoDerivatives (aka M...         50135   \n4  Attribution-NonCommercial-ShareAlike 3.0 Inter...           943   \n\n  track_lyricist  track_number  track_publisher  track_tags   track_title  \n0            NaN             3              NaN          []          Food  \n1            NaN             4              NaN          []  Electric Ave  \n2            NaN             6              NaN          []    This World  \n3            NaN             1              NaN          []       Freeway  \n4            NaN             5              NaN          []  Street Music  \n\n[5 rows x 820 columns]",
      "text/html": "<div>\n<style scoped>\n    .dataframe tbody tr th:only-of-type {\n        vertical-align: middle;\n    }\n\n    .dataframe tbody tr th {\n        vertical-align: top;\n    }\n\n    .dataframe thead th {\n        text-align: right;\n    }\n</style>\n<table border=\"1\" class=\"dataframe\">\n  <thead>\n    <tr style=\"text-align: right;\">\n      <th></th>\n      <th>track_id</th>\n      <th>audio_features_acousticness</th>\n      <th>audio_features_danceability</th>\n      <th>audio_features_energy</th>\n      <th>audio_features_instrumentalness</th>\n      <th>audio_features_liveness</th>\n      <th>audio_features_speechiness</th>\n      <th>audio_features_tempo</th>\n      <th>audio_features_valence</th>\n      <th>metadata_album_date</th>\n      <th>...</th>\n      <th>track_information</th>\n      <th>track_interest</th>\n      <th>track_language_code</th>\n      <th>track_license</th>\n      <th>track_listens</th>\n      <th>track_lyricist</th>\n      <th>track_number</th>\n      <th>track_publisher</th>\n      <th>track_tags</th>\n      <th>track_title</th>\n    </tr>\n  </thead>\n  <tbody>\n    <tr>\n      <th>0</th>\n      <td>2</td>\n      <td>0.416675</td>\n      <td>0.675894</td>\n      <td>0.634476</td>\n      <td>0.010628</td>\n      <td>0.177647</td>\n      <td>0.159310</td>\n      <td>165.922</td>\n      <td>0.576661</td>\n      <td>NaN</td>\n      <td>...</td>\n      <td>NaN</td>\n      <td>4656</td>\n      <td>en</td>\n      <td>Attribution-NonCommercial-ShareAlike 3.0 Inter...</td>\n      <td>1293</td>\n      <td>NaN</td>\n      <td>3</td>\n      <td>NaN</td>\n      <td>[]</td>\n      <td>Food</td>\n    </tr>\n    <tr>\n      <th>1</th>\n      <td>3</td>\n      <td>0.374408</td>\n      <td>0.528643</td>\n      <td>0.817461</td>\n      <td>0.001851</td>\n      <td>0.105880</td>\n      <td>0.461818</td>\n      <td>126.957</td>\n      <td>0.269240</td>\n      <td>NaN</td>\n      <td>...</td>\n      <td>NaN</td>\n      <td>1470</td>\n      <td>en</td>\n      <td>Attribution-NonCommercial-ShareAlike 3.0 Inter...</td>\n      <td>514</td>\n      <td>NaN</td>\n      <td>4</td>\n      <td>NaN</td>\n      <td>[]</td>\n      <td>Electric Ave</td>\n    </tr>\n    <tr>\n      <th>2</th>\n      <td>5</td>\n      <td>0.043567</td>\n      <td>0.745566</td>\n      <td>0.701470</td>\n      <td>0.000697</td>\n      <td>0.373143</td>\n      <td>0.124595</td>\n      <td>100.260</td>\n      <td>0.621661</td>\n      <td>NaN</td>\n      <td>...</td>\n      <td>NaN</td>\n      <td>1933</td>\n      <td>en</td>\n      <td>Attribution-NonCommercial-ShareAlike 3.0 Inter...</td>\n      <td>1151</td>\n      <td>NaN</td>\n      <td>6</td>\n      <td>NaN</td>\n      <td>[]</td>\n      <td>This World</td>\n    </tr>\n    <tr>\n      <th>3</th>\n      <td>10</td>\n      <td>0.951670</td>\n      <td>0.658179</td>\n      <td>0.924525</td>\n      <td>0.965427</td>\n      <td>0.115474</td>\n      <td>0.032985</td>\n      <td>111.562</td>\n      <td>0.963590</td>\n      <td>2008-03-11</td>\n      <td>...</td>\n      <td>NaN</td>\n      <td>54881</td>\n      <td>en</td>\n      <td>Attribution-NonCommercial-NoDerivatives (aka M...</td>\n      <td>50135</td>\n      <td>NaN</td>\n      <td>1</td>\n      <td>NaN</td>\n      <td>[]</td>\n      <td>Freeway</td>\n    </tr>\n    <tr>\n      <th>4</th>\n      <td>134</td>\n      <td>0.452217</td>\n      <td>0.513238</td>\n      <td>0.560410</td>\n      <td>0.019443</td>\n      <td>0.096567</td>\n      <td>0.525519</td>\n      <td>114.290</td>\n      <td>0.894072</td>\n      <td>NaN</td>\n      <td>...</td>\n      <td>NaN</td>\n      <td>1126</td>\n      <td>en</td>\n      <td>Attribution-NonCommercial-ShareAlike 3.0 Inter...</td>\n      <td>943</td>\n      <td>NaN</td>\n      <td>5</td>\n      <td>NaN</td>\n      <td>[]</td>\n      <td>Street Music</td>\n    </tr>\n  </tbody>\n</table>\n<p>5 rows × 820 columns</p>\n</div>"
     },
     "execution_count": 15,
     "metadata": {},
     "output_type": "execute_result"
    }
   ],
   "source": [
    "#519 + 250 + 53 - 2 (track_id duplicates) = 820 columns\n",
    "main_df.head()"
   ]
  },
  {
   "cell_type": "code",
   "execution_count": 16,
   "outputs": [],
   "source": [
    "# main_df.to_csv('csv/main_df.csv', index=False)"
   ],
   "metadata": {
    "collapsed": false,
    "pycharm": {
     "name": "#%%\n"
    }
   }
  },
  {
   "cell_type": "code",
   "source": [
    "main_df.info()"
   ],
   "metadata": {
    "collapsed": false,
    "pycharm": {
     "name": "#%%\n"
    }
   },
   "execution_count": 17,
   "outputs": [
    {
     "name": "stdout",
     "output_type": "stream",
     "text": [
      "<class 'pandas.core.frame.DataFrame'>\n",
      "Int64Index: 13129 entries, 0 to 13128\n",
      "Columns: 820 entries, track_id to track_title\n",
      "dtypes: float64(764), int64(16), object(40)\n",
      "memory usage: 82.2+ MB\n"
     ]
    }
   ]
  },
  {
   "cell_type": "markdown",
   "source": [
    "## 2.2 Choose your features (variables)!"
   ],
   "metadata": {
    "collapsed": false
   }
  },
  {
   "cell_type": "markdown",
   "source": [
    "As you may notice, you have plenty of features to work with. So, you need to find a way to reduce the dimensionality (reduce the number of variables to work with). You can follow the next directions to achieve it:\n",
    "\n",
    "1) Select **one** method for dimensionality reduction and apply it to your data. Some suggestions are Principal Component Analysis, Multiple Correspondence Analysis, Singular Value Decomposition, Factor Analysis for Mixed Data, Two-Steps clustering. Make sure that the method you choose is applicable for the features you have or modify your data to be able to use it. Explain why you chose that method and the limitations it may have.\n",
    "\n",
    "HINT: We don't want to miss relevant variables like song's duration, language, etc., after the dimensionality reduction. To keep those variables, you can apply the dimensionality reduction method(s) on features coming from the same file. Later you can stack them with the variables selected from another file.\n",
    "\n",
    "2) Apply the selected method(s) to your data. Make sure that the chosen method retains > 70% of the total variance."
   ],
   "metadata": {
    "collapsed": false
   }
  },
  {
   "cell_type": "code",
   "execution_count": 20,
   "outputs": [],
   "source": [
    "try_df = main_df.copy()"
   ],
   "metadata": {
    "collapsed": false,
    "pycharm": {
     "name": "#%%\n"
    }
   }
  },
  {
   "cell_type": "code",
   "execution_count": 21,
   "outputs": [
    {
     "name": "stdout",
     "output_type": "stream",
     "text": [
      "<class 'pandas.core.frame.DataFrame'>\n",
      "Int64Index: 13129 entries, 0 to 13128\n",
      "Columns: 820 entries, track_id to track_title\n",
      "dtypes: float64(764), int64(16), object(40)\n",
      "memory usage: 82.2+ MB\n"
     ]
    }
   ],
   "source": [
    "try_df.info()"
   ],
   "metadata": {
    "collapsed": false,
    "pycharm": {
     "name": "#%%\n"
    }
   }
  },
  {
   "cell_type": "code",
   "execution_count": 26,
   "outputs": [],
   "source": [
    "echo_cp = echonest.copy()\n",
    "feat_cp = features.copy()\n",
    "tracks_cp = tracks.copy()"
   ],
   "metadata": {
    "collapsed": false,
    "pycharm": {
     "name": "#%%\n"
    }
   }
  },
  {
   "cell_type": "markdown",
   "source": [
    "### PCA on Echonest"
   ],
   "metadata": {
    "collapsed": false,
    "pycharm": {
     "name": "#%% md\n"
    }
   }
  },
  {
   "cell_type": "code",
   "execution_count": 47,
   "outputs": [],
   "source": [
    "# we want to use the PCA only on the temporal columns, so we need to take them\n",
    "col_temp = [x for x in echo_cp if x.startswith('temporal')]\n",
    "other_col = [x for x in echo_cp.columns.to_list() if x not in col_temp]\n",
    "echo_PCA = echo_cp.loc[:, col_temp]"
   ],
   "metadata": {
    "collapsed": false,
    "pycharm": {
     "name": "#%%\n"
    }
   }
  },
  {
   "cell_type": "code",
   "execution_count": 48,
   "outputs": [
    {
     "data": {
      "text/plain": "       temporal_features_000  temporal_features_001  temporal_features_002  \\\n0                   0.877233               0.588911               0.354243   \n1                   0.534429               0.537414               0.443299   \n2                   0.548093               0.720192               0.389257   \n3                   0.311404               0.711402               0.321914   \n4                   0.610849               0.569169               0.428494   \n...                      ...                    ...                    ...   \n13124               0.717013               0.686557               0.411056   \n13125               0.673395               0.846995               0.447772   \n13126               0.842368               0.719091               0.351503   \n13127               0.346748               0.311817               0.220864   \n13128               0.319693               0.164967               0.071792   \n\n       temporal_features_003  temporal_features_004  temporal_features_005  \\\n0                   0.295090               0.298413               0.309430   \n1                   0.390879               0.344573               0.366448   \n2                   0.344934               0.361300               0.402543   \n3                   0.500601               0.250963               0.321316   \n4                   0.345796               0.376920               0.460590   \n...                      ...                    ...                    ...   \n13124               0.342718               0.341934               0.482926   \n13125               0.425936               0.407817               0.405924   \n13126               0.354707               0.314619               0.276266   \n13127               0.185269               0.333642               0.290699   \n13128               0.426253               0.068991               0.226611   \n\n       temporal_features_006  temporal_features_007  temporal_features_008  \\\n0                   0.304496               0.334579               0.249495   \n1                   0.419455               0.747766               0.460901   \n2                   0.434044               0.388137               0.512487   \n3                   0.734250               0.325188               0.373012   \n4                   0.401371               0.449900               0.428946   \n...                      ...                    ...                    ...   \n13124               0.419219               0.408946               0.393060   \n13125               0.290565               0.314019               0.318129   \n13126               0.340571               0.342762               0.449963   \n13127               0.558345               0.397021               0.217570   \n13128               0.076166               0.179372               0.446614   \n\n       temporal_features_009  ...  temporal_features_214  \\\n0                   0.259656  ...              -1.992303   \n1                   0.392379  ...              -1.582331   \n2                   0.525755  ...              -2.288358   \n3                   0.235840  ...              -3.662988   \n4                   0.446736  ...              -1.452696   \n...                      ...  ...                    ...   \n13124               0.382778  ...              -1.721207   \n13125               0.310359  ...              -0.647897   \n13126               0.456690  ...              -0.771613   \n13127               0.297939  ...              -2.054143   \n13128               0.097417  ...              -0.215639   \n\n       temporal_features_215  temporal_features_216  temporal_features_217  \\\n0                   6.805694               0.233070               0.192880   \n1                   8.889308               0.258464               0.220905   \n2                  11.527109               0.256821               0.237820   \n3                  21.508228               0.283352               0.267070   \n4                   2.356398               0.234686               0.199550   \n...                      ...                    ...                    ...   \n13124               4.686078               0.213789               0.208800   \n13125               1.282306               0.214586               0.181860   \n13126               1.623510               0.180471               0.128185   \n13127               7.927149               0.250178               0.219205   \n13128              -0.584081               0.603893               0.505940   \n\n       temporal_features_218  temporal_features_219  temporal_features_220  \\\n0                   0.027455                0.06408               3.676960   \n1                   0.081368                0.06413               6.082770   \n2                   0.060122                0.06014               5.926490   \n3                   0.125704                0.08082               8.414010   \n4                   0.149332                0.06440              11.267070   \n...                      ...                    ...                    ...   \n13124               0.007911                0.06395               2.040730   \n13125               0.011247                0.06240               0.922360   \n13126               0.010103                0.06222               2.251160   \n13127               0.014851                0.06390               1.487440   \n13128               0.608585                0.06830              16.559731   \n\n       temporal_features_221  temporal_features_222  temporal_features_223  \n0                    3.61288              13.316690             262.929749  \n1                    6.01864              16.673548             325.581085  \n2                    5.86635              16.013849             356.755737  \n3                    8.33319              21.317064             483.403809  \n4                   11.20267              26.454180             751.147705  \n...                      ...                    ...                    ...  \n13124                1.97678               8.144532             147.040405  \n13125                0.85996               1.794739               6.321268  \n13126                2.18894               5.578341              89.180328  \n13127                1.42354               2.173092              12.503966  \n13128               16.49143              15.169022             302.946350  \n\n[13129 rows x 224 columns]",
      "text/html": "<div>\n<style scoped>\n    .dataframe tbody tr th:only-of-type {\n        vertical-align: middle;\n    }\n\n    .dataframe tbody tr th {\n        vertical-align: top;\n    }\n\n    .dataframe thead th {\n        text-align: right;\n    }\n</style>\n<table border=\"1\" class=\"dataframe\">\n  <thead>\n    <tr style=\"text-align: right;\">\n      <th></th>\n      <th>temporal_features_000</th>\n      <th>temporal_features_001</th>\n      <th>temporal_features_002</th>\n      <th>temporal_features_003</th>\n      <th>temporal_features_004</th>\n      <th>temporal_features_005</th>\n      <th>temporal_features_006</th>\n      <th>temporal_features_007</th>\n      <th>temporal_features_008</th>\n      <th>temporal_features_009</th>\n      <th>...</th>\n      <th>temporal_features_214</th>\n      <th>temporal_features_215</th>\n      <th>temporal_features_216</th>\n      <th>temporal_features_217</th>\n      <th>temporal_features_218</th>\n      <th>temporal_features_219</th>\n      <th>temporal_features_220</th>\n      <th>temporal_features_221</th>\n      <th>temporal_features_222</th>\n      <th>temporal_features_223</th>\n    </tr>\n  </thead>\n  <tbody>\n    <tr>\n      <th>0</th>\n      <td>0.877233</td>\n      <td>0.588911</td>\n      <td>0.354243</td>\n      <td>0.295090</td>\n      <td>0.298413</td>\n      <td>0.309430</td>\n      <td>0.304496</td>\n      <td>0.334579</td>\n      <td>0.249495</td>\n      <td>0.259656</td>\n      <td>...</td>\n      <td>-1.992303</td>\n      <td>6.805694</td>\n      <td>0.233070</td>\n      <td>0.192880</td>\n      <td>0.027455</td>\n      <td>0.06408</td>\n      <td>3.676960</td>\n      <td>3.61288</td>\n      <td>13.316690</td>\n      <td>262.929749</td>\n    </tr>\n    <tr>\n      <th>1</th>\n      <td>0.534429</td>\n      <td>0.537414</td>\n      <td>0.443299</td>\n      <td>0.390879</td>\n      <td>0.344573</td>\n      <td>0.366448</td>\n      <td>0.419455</td>\n      <td>0.747766</td>\n      <td>0.460901</td>\n      <td>0.392379</td>\n      <td>...</td>\n      <td>-1.582331</td>\n      <td>8.889308</td>\n      <td>0.258464</td>\n      <td>0.220905</td>\n      <td>0.081368</td>\n      <td>0.06413</td>\n      <td>6.082770</td>\n      <td>6.01864</td>\n      <td>16.673548</td>\n      <td>325.581085</td>\n    </tr>\n    <tr>\n      <th>2</th>\n      <td>0.548093</td>\n      <td>0.720192</td>\n      <td>0.389257</td>\n      <td>0.344934</td>\n      <td>0.361300</td>\n      <td>0.402543</td>\n      <td>0.434044</td>\n      <td>0.388137</td>\n      <td>0.512487</td>\n      <td>0.525755</td>\n      <td>...</td>\n      <td>-2.288358</td>\n      <td>11.527109</td>\n      <td>0.256821</td>\n      <td>0.237820</td>\n      <td>0.060122</td>\n      <td>0.06014</td>\n      <td>5.926490</td>\n      <td>5.86635</td>\n      <td>16.013849</td>\n      <td>356.755737</td>\n    </tr>\n    <tr>\n      <th>3</th>\n      <td>0.311404</td>\n      <td>0.711402</td>\n      <td>0.321914</td>\n      <td>0.500601</td>\n      <td>0.250963</td>\n      <td>0.321316</td>\n      <td>0.734250</td>\n      <td>0.325188</td>\n      <td>0.373012</td>\n      <td>0.235840</td>\n      <td>...</td>\n      <td>-3.662988</td>\n      <td>21.508228</td>\n      <td>0.283352</td>\n      <td>0.267070</td>\n      <td>0.125704</td>\n      <td>0.08082</td>\n      <td>8.414010</td>\n      <td>8.33319</td>\n      <td>21.317064</td>\n      <td>483.403809</td>\n    </tr>\n    <tr>\n      <th>4</th>\n      <td>0.610849</td>\n      <td>0.569169</td>\n      <td>0.428494</td>\n      <td>0.345796</td>\n      <td>0.376920</td>\n      <td>0.460590</td>\n      <td>0.401371</td>\n      <td>0.449900</td>\n      <td>0.428946</td>\n      <td>0.446736</td>\n      <td>...</td>\n      <td>-1.452696</td>\n      <td>2.356398</td>\n      <td>0.234686</td>\n      <td>0.199550</td>\n      <td>0.149332</td>\n      <td>0.06440</td>\n      <td>11.267070</td>\n      <td>11.20267</td>\n      <td>26.454180</td>\n      <td>751.147705</td>\n    </tr>\n    <tr>\n      <th>...</th>\n      <td>...</td>\n      <td>...</td>\n      <td>...</td>\n      <td>...</td>\n      <td>...</td>\n      <td>...</td>\n      <td>...</td>\n      <td>...</td>\n      <td>...</td>\n      <td>...</td>\n      <td>...</td>\n      <td>...</td>\n      <td>...</td>\n      <td>...</td>\n      <td>...</td>\n      <td>...</td>\n      <td>...</td>\n      <td>...</td>\n      <td>...</td>\n      <td>...</td>\n      <td>...</td>\n    </tr>\n    <tr>\n      <th>13124</th>\n      <td>0.717013</td>\n      <td>0.686557</td>\n      <td>0.411056</td>\n      <td>0.342718</td>\n      <td>0.341934</td>\n      <td>0.482926</td>\n      <td>0.419219</td>\n      <td>0.408946</td>\n      <td>0.393060</td>\n      <td>0.382778</td>\n      <td>...</td>\n      <td>-1.721207</td>\n      <td>4.686078</td>\n      <td>0.213789</td>\n      <td>0.208800</td>\n      <td>0.007911</td>\n      <td>0.06395</td>\n      <td>2.040730</td>\n      <td>1.97678</td>\n      <td>8.144532</td>\n      <td>147.040405</td>\n    </tr>\n    <tr>\n      <th>13125</th>\n      <td>0.673395</td>\n      <td>0.846995</td>\n      <td>0.447772</td>\n      <td>0.425936</td>\n      <td>0.407817</td>\n      <td>0.405924</td>\n      <td>0.290565</td>\n      <td>0.314019</td>\n      <td>0.318129</td>\n      <td>0.310359</td>\n      <td>...</td>\n      <td>-0.647897</td>\n      <td>1.282306</td>\n      <td>0.214586</td>\n      <td>0.181860</td>\n      <td>0.011247</td>\n      <td>0.06240</td>\n      <td>0.922360</td>\n      <td>0.85996</td>\n      <td>1.794739</td>\n      <td>6.321268</td>\n    </tr>\n    <tr>\n      <th>13126</th>\n      <td>0.842368</td>\n      <td>0.719091</td>\n      <td>0.351503</td>\n      <td>0.354707</td>\n      <td>0.314619</td>\n      <td>0.276266</td>\n      <td>0.340571</td>\n      <td>0.342762</td>\n      <td>0.449963</td>\n      <td>0.456690</td>\n      <td>...</td>\n      <td>-0.771613</td>\n      <td>1.623510</td>\n      <td>0.180471</td>\n      <td>0.128185</td>\n      <td>0.010103</td>\n      <td>0.06222</td>\n      <td>2.251160</td>\n      <td>2.18894</td>\n      <td>5.578341</td>\n      <td>89.180328</td>\n    </tr>\n    <tr>\n      <th>13127</th>\n      <td>0.346748</td>\n      <td>0.311817</td>\n      <td>0.220864</td>\n      <td>0.185269</td>\n      <td>0.333642</td>\n      <td>0.290699</td>\n      <td>0.558345</td>\n      <td>0.397021</td>\n      <td>0.217570</td>\n      <td>0.297939</td>\n      <td>...</td>\n      <td>-2.054143</td>\n      <td>7.927149</td>\n      <td>0.250178</td>\n      <td>0.219205</td>\n      <td>0.014851</td>\n      <td>0.06390</td>\n      <td>1.487440</td>\n      <td>1.42354</td>\n      <td>2.173092</td>\n      <td>12.503966</td>\n    </tr>\n    <tr>\n      <th>13128</th>\n      <td>0.319693</td>\n      <td>0.164967</td>\n      <td>0.071792</td>\n      <td>0.426253</td>\n      <td>0.068991</td>\n      <td>0.226611</td>\n      <td>0.076166</td>\n      <td>0.179372</td>\n      <td>0.446614</td>\n      <td>0.097417</td>\n      <td>...</td>\n      <td>-0.215639</td>\n      <td>-0.584081</td>\n      <td>0.603893</td>\n      <td>0.505940</td>\n      <td>0.608585</td>\n      <td>0.06830</td>\n      <td>16.559731</td>\n      <td>16.49143</td>\n      <td>15.169022</td>\n      <td>302.946350</td>\n    </tr>\n  </tbody>\n</table>\n<p>13129 rows × 224 columns</p>\n</div>"
     },
     "execution_count": 48,
     "metadata": {},
     "output_type": "execute_result"
    }
   ],
   "source": [
    "echo_PCA"
   ],
   "metadata": {
    "collapsed": false,
    "pycharm": {
     "name": "#%%\n"
    }
   }
  },
  {
   "cell_type": "markdown",
   "source": [
    "#### Standardize the Data"
   ],
   "metadata": {
    "collapsed": false
   }
  },
  {
   "cell_type": "code",
   "execution_count": 49,
   "outputs": [],
   "source": [
    "scaler = StandardScaler()\n",
    "echo_PCA = scaler.fit_transform(echo_PCA)"
   ],
   "metadata": {
    "collapsed": false,
    "pycharm": {
     "name": "#%%\n"
    }
   }
  },
  {
   "cell_type": "code",
   "execution_count": 50,
   "outputs": [
    {
     "data": {
      "text/plain": "array([[ 2.60237192,  0.91956571, -0.08275171, ..., -0.1010752 ,\n         0.88620311,  0.54969139],\n       [ 0.52227969,  0.61013805,  0.5894801 , ...,  0.3832916 ,\n         1.40707909,  0.82743032],\n       [ 0.60518755,  1.70838789,  0.18154766, ...,  0.35263003,\n         1.30471517,  0.96563031],\n       ...,\n       [ 2.39081103,  1.70177654, -0.10343334, ..., -0.38776602,\n        -0.31453905, -0.2205552 ],\n       [-0.61654685, -0.74539844, -1.08954698, ..., -0.54186878,\n        -0.84292396, -0.56046831],\n       [-0.78071297, -1.62777553, -2.21479625, ...,  2.49184428,\n         1.17362516,  0.72708853]])"
     },
     "execution_count": 50,
     "metadata": {},
     "output_type": "execute_result"
    }
   ],
   "source": [
    "echo_PCA"
   ],
   "metadata": {
    "collapsed": false,
    "pycharm": {
     "name": "#%%\n"
    }
   }
  },
  {
   "cell_type": "markdown",
   "source": [
    "#### Apply PCA"
   ],
   "metadata": {
    "collapsed": false
   }
  },
  {
   "cell_type": "code",
   "execution_count": 51,
   "outputs": [
    {
     "name": "stdout",
     "output_type": "stream",
     "text": [
      "0.9006240048197013\n"
     ]
    }
   ],
   "source": [
    "pca = PCA(0.90)\n",
    "pc_echo = pca.fit_transform(echo_PCA)\n",
    "print(pca.explained_variance_ratio_.sum())\n",
    "pca_num = len(pca.components_)\n",
    "print(pca_num)"
   ],
   "metadata": {
    "collapsed": false,
    "pycharm": {
     "name": "#%%\n"
    }
   }
  },
  {
   "cell_type": "code",
   "execution_count": 52,
   "outputs": [
    {
     "data": {
      "text/plain": "       pc_echo_0  pc_echo_1  pc_echo_2  pc_echo_3  pc_echo_4  pc_echo_5  \\\n0       0.745696  -1.449742   0.243402   0.285016  -1.417538   1.032981   \n1       2.610432  -3.990186   2.287702  -0.523855   0.171606   0.027428   \n2       1.293987  -4.319219   2.530143  -0.218655  -0.523152   0.400669   \n3       6.132185  -1.496205   1.317994   1.178291   1.206192   0.521756   \n4      -2.953884  -5.177221   2.735791  -0.619944   0.793249   0.984330   \n...          ...        ...        ...        ...        ...        ...   \n13124   2.379205  -4.313090  -0.721039   0.162001  -2.092707   1.371075   \n13125   0.076222  -4.946320   2.234761   3.859317  -3.213747   2.025050   \n13126   2.384627  -4.320515  -0.286861   0.112463  -2.184722   2.877628   \n13127  -0.351606   0.562424  -3.333085  -2.336173  -0.199171   0.274648   \n13128  -3.964733  10.676312   4.614630   5.832601  -3.637623   7.964763   \n\n       pc_echo_6  pc_echo_7  pc_echo_8  pc_echo_9  ...  pc_echo_61  \\\n0      -1.149841  -0.091138  -1.395834  -2.404001  ...    0.353559   \n1       0.318255  -2.011168  -0.017749  -3.278246  ...    0.611444   \n2       0.965578  -0.076320   1.447202  -2.345793  ...    1.318349   \n3      -3.728041   1.896103  -0.732778  -3.408716  ...   -0.572486   \n4       0.524088   0.027225  -1.042982   0.384810  ...    0.547149   \n...          ...        ...        ...        ...  ...         ...   \n13124   0.333089  -1.045140   2.615540  -1.809308  ...   -0.028087   \n13125   2.920090  -0.261611   1.246771  -1.434390  ...    1.174578   \n13126   0.018145  -0.147263   1.016730  -3.700848  ...    1.033169   \n13127   1.251824   0.622272   2.572821  -2.715374  ...   -0.262435   \n13128  -8.423914  -0.118764   5.738183  -3.831436  ...   -1.354396   \n\n       pc_echo_62  pc_echo_63  pc_echo_64  pc_echo_65  pc_echo_66  pc_echo_67  \\\n0        0.111561   -0.262992   -0.504016    0.604185   -0.128035   -0.608444   \n1       -0.878695    0.244091    0.416863    0.594802   -0.338894   -0.034221   \n2       -0.753971   -1.039863    0.777191    0.509547    0.417779   -0.091032   \n3        0.454861   -1.059819    1.491763   -1.397941   -0.579548    0.327253   \n4       -0.094636    0.154925   -0.278138    0.315183    0.768817   -0.381592   \n...           ...         ...         ...         ...         ...         ...   \n13124   -0.057589    0.620655   -0.427503    0.640985    0.253803    0.077692   \n13125    0.102255    0.819572    0.209645    0.276500   -0.497789    0.424493   \n13126   -0.566303    0.512557   -0.682360   -0.380061    0.023999   -0.741503   \n13127   -0.174925   -0.055767    0.459823    0.147709    0.412693    0.162588   \n13128   -0.350626    0.959726   -1.051881   -0.381021    0.000601    0.944843   \n\n       pc_echo_68  pc_echo_69  pc_echo_70  \n0       -0.370103   -0.411444   -0.955747  \n1       -1.845181   -0.276950    0.296630  \n2       -1.025886    0.068314   -0.272380  \n3       -0.043924    1.003379   -0.564259  \n4        0.186775   -0.449920    0.061162  \n...           ...         ...         ...  \n13124   -0.012697    0.109495   -0.648873  \n13125   -0.239482    0.408978    1.193789  \n13126    0.144168   -0.182448    0.207433  \n13127   -0.276375    0.841430    0.173692  \n13128    0.271965    2.782813   -1.435440  \n\n[13129 rows x 71 columns]",
      "text/html": "<div>\n<style scoped>\n    .dataframe tbody tr th:only-of-type {\n        vertical-align: middle;\n    }\n\n    .dataframe tbody tr th {\n        vertical-align: top;\n    }\n\n    .dataframe thead th {\n        text-align: right;\n    }\n</style>\n<table border=\"1\" class=\"dataframe\">\n  <thead>\n    <tr style=\"text-align: right;\">\n      <th></th>\n      <th>pc_echo_0</th>\n      <th>pc_echo_1</th>\n      <th>pc_echo_2</th>\n      <th>pc_echo_3</th>\n      <th>pc_echo_4</th>\n      <th>pc_echo_5</th>\n      <th>pc_echo_6</th>\n      <th>pc_echo_7</th>\n      <th>pc_echo_8</th>\n      <th>pc_echo_9</th>\n      <th>...</th>\n      <th>pc_echo_61</th>\n      <th>pc_echo_62</th>\n      <th>pc_echo_63</th>\n      <th>pc_echo_64</th>\n      <th>pc_echo_65</th>\n      <th>pc_echo_66</th>\n      <th>pc_echo_67</th>\n      <th>pc_echo_68</th>\n      <th>pc_echo_69</th>\n      <th>pc_echo_70</th>\n    </tr>\n  </thead>\n  <tbody>\n    <tr>\n      <th>0</th>\n      <td>0.745696</td>\n      <td>-1.449742</td>\n      <td>0.243402</td>\n      <td>0.285016</td>\n      <td>-1.417538</td>\n      <td>1.032981</td>\n      <td>-1.149841</td>\n      <td>-0.091138</td>\n      <td>-1.395834</td>\n      <td>-2.404001</td>\n      <td>...</td>\n      <td>0.353559</td>\n      <td>0.111561</td>\n      <td>-0.262992</td>\n      <td>-0.504016</td>\n      <td>0.604185</td>\n      <td>-0.128035</td>\n      <td>-0.608444</td>\n      <td>-0.370103</td>\n      <td>-0.411444</td>\n      <td>-0.955747</td>\n    </tr>\n    <tr>\n      <th>1</th>\n      <td>2.610432</td>\n      <td>-3.990186</td>\n      <td>2.287702</td>\n      <td>-0.523855</td>\n      <td>0.171606</td>\n      <td>0.027428</td>\n      <td>0.318255</td>\n      <td>-2.011168</td>\n      <td>-0.017749</td>\n      <td>-3.278246</td>\n      <td>...</td>\n      <td>0.611444</td>\n      <td>-0.878695</td>\n      <td>0.244091</td>\n      <td>0.416863</td>\n      <td>0.594802</td>\n      <td>-0.338894</td>\n      <td>-0.034221</td>\n      <td>-1.845181</td>\n      <td>-0.276950</td>\n      <td>0.296630</td>\n    </tr>\n    <tr>\n      <th>2</th>\n      <td>1.293987</td>\n      <td>-4.319219</td>\n      <td>2.530143</td>\n      <td>-0.218655</td>\n      <td>-0.523152</td>\n      <td>0.400669</td>\n      <td>0.965578</td>\n      <td>-0.076320</td>\n      <td>1.447202</td>\n      <td>-2.345793</td>\n      <td>...</td>\n      <td>1.318349</td>\n      <td>-0.753971</td>\n      <td>-1.039863</td>\n      <td>0.777191</td>\n      <td>0.509547</td>\n      <td>0.417779</td>\n      <td>-0.091032</td>\n      <td>-1.025886</td>\n      <td>0.068314</td>\n      <td>-0.272380</td>\n    </tr>\n    <tr>\n      <th>3</th>\n      <td>6.132185</td>\n      <td>-1.496205</td>\n      <td>1.317994</td>\n      <td>1.178291</td>\n      <td>1.206192</td>\n      <td>0.521756</td>\n      <td>-3.728041</td>\n      <td>1.896103</td>\n      <td>-0.732778</td>\n      <td>-3.408716</td>\n      <td>...</td>\n      <td>-0.572486</td>\n      <td>0.454861</td>\n      <td>-1.059819</td>\n      <td>1.491763</td>\n      <td>-1.397941</td>\n      <td>-0.579548</td>\n      <td>0.327253</td>\n      <td>-0.043924</td>\n      <td>1.003379</td>\n      <td>-0.564259</td>\n    </tr>\n    <tr>\n      <th>4</th>\n      <td>-2.953884</td>\n      <td>-5.177221</td>\n      <td>2.735791</td>\n      <td>-0.619944</td>\n      <td>0.793249</td>\n      <td>0.984330</td>\n      <td>0.524088</td>\n      <td>0.027225</td>\n      <td>-1.042982</td>\n      <td>0.384810</td>\n      <td>...</td>\n      <td>0.547149</td>\n      <td>-0.094636</td>\n      <td>0.154925</td>\n      <td>-0.278138</td>\n      <td>0.315183</td>\n      <td>0.768817</td>\n      <td>-0.381592</td>\n      <td>0.186775</td>\n      <td>-0.449920</td>\n      <td>0.061162</td>\n    </tr>\n    <tr>\n      <th>...</th>\n      <td>...</td>\n      <td>...</td>\n      <td>...</td>\n      <td>...</td>\n      <td>...</td>\n      <td>...</td>\n      <td>...</td>\n      <td>...</td>\n      <td>...</td>\n      <td>...</td>\n      <td>...</td>\n      <td>...</td>\n      <td>...</td>\n      <td>...</td>\n      <td>...</td>\n      <td>...</td>\n      <td>...</td>\n      <td>...</td>\n      <td>...</td>\n      <td>...</td>\n      <td>...</td>\n    </tr>\n    <tr>\n      <th>13124</th>\n      <td>2.379205</td>\n      <td>-4.313090</td>\n      <td>-0.721039</td>\n      <td>0.162001</td>\n      <td>-2.092707</td>\n      <td>1.371075</td>\n      <td>0.333089</td>\n      <td>-1.045140</td>\n      <td>2.615540</td>\n      <td>-1.809308</td>\n      <td>...</td>\n      <td>-0.028087</td>\n      <td>-0.057589</td>\n      <td>0.620655</td>\n      <td>-0.427503</td>\n      <td>0.640985</td>\n      <td>0.253803</td>\n      <td>0.077692</td>\n      <td>-0.012697</td>\n      <td>0.109495</td>\n      <td>-0.648873</td>\n    </tr>\n    <tr>\n      <th>13125</th>\n      <td>0.076222</td>\n      <td>-4.946320</td>\n      <td>2.234761</td>\n      <td>3.859317</td>\n      <td>-3.213747</td>\n      <td>2.025050</td>\n      <td>2.920090</td>\n      <td>-0.261611</td>\n      <td>1.246771</td>\n      <td>-1.434390</td>\n      <td>...</td>\n      <td>1.174578</td>\n      <td>0.102255</td>\n      <td>0.819572</td>\n      <td>0.209645</td>\n      <td>0.276500</td>\n      <td>-0.497789</td>\n      <td>0.424493</td>\n      <td>-0.239482</td>\n      <td>0.408978</td>\n      <td>1.193789</td>\n    </tr>\n    <tr>\n      <th>13126</th>\n      <td>2.384627</td>\n      <td>-4.320515</td>\n      <td>-0.286861</td>\n      <td>0.112463</td>\n      <td>-2.184722</td>\n      <td>2.877628</td>\n      <td>0.018145</td>\n      <td>-0.147263</td>\n      <td>1.016730</td>\n      <td>-3.700848</td>\n      <td>...</td>\n      <td>1.033169</td>\n      <td>-0.566303</td>\n      <td>0.512557</td>\n      <td>-0.682360</td>\n      <td>-0.380061</td>\n      <td>0.023999</td>\n      <td>-0.741503</td>\n      <td>0.144168</td>\n      <td>-0.182448</td>\n      <td>0.207433</td>\n    </tr>\n    <tr>\n      <th>13127</th>\n      <td>-0.351606</td>\n      <td>0.562424</td>\n      <td>-3.333085</td>\n      <td>-2.336173</td>\n      <td>-0.199171</td>\n      <td>0.274648</td>\n      <td>1.251824</td>\n      <td>0.622272</td>\n      <td>2.572821</td>\n      <td>-2.715374</td>\n      <td>...</td>\n      <td>-0.262435</td>\n      <td>-0.174925</td>\n      <td>-0.055767</td>\n      <td>0.459823</td>\n      <td>0.147709</td>\n      <td>0.412693</td>\n      <td>0.162588</td>\n      <td>-0.276375</td>\n      <td>0.841430</td>\n      <td>0.173692</td>\n    </tr>\n    <tr>\n      <th>13128</th>\n      <td>-3.964733</td>\n      <td>10.676312</td>\n      <td>4.614630</td>\n      <td>5.832601</td>\n      <td>-3.637623</td>\n      <td>7.964763</td>\n      <td>-8.423914</td>\n      <td>-0.118764</td>\n      <td>5.738183</td>\n      <td>-3.831436</td>\n      <td>...</td>\n      <td>-1.354396</td>\n      <td>-0.350626</td>\n      <td>0.959726</td>\n      <td>-1.051881</td>\n      <td>-0.381021</td>\n      <td>0.000601</td>\n      <td>0.944843</td>\n      <td>0.271965</td>\n      <td>2.782813</td>\n      <td>-1.435440</td>\n    </tr>\n  </tbody>\n</table>\n<p>13129 rows × 71 columns</p>\n</div>"
     },
     "execution_count": 52,
     "metadata": {},
     "output_type": "execute_result"
    }
   ],
   "source": [
    "pc_echo_df = pd.DataFrame(data=pc_echo, columns=['pc_echo_'+str(i) for i in range(pca_num)])\n",
    "pc_echo_df"
   ],
   "metadata": {
    "collapsed": false,
    "pycharm": {
     "name": "#%%\n"
    }
   }
  },
  {
   "cell_type": "markdown",
   "source": [
    "#### Final Echonest dataset"
   ],
   "metadata": {
    "collapsed": false
   }
  },
  {
   "cell_type": "code",
   "execution_count": 53,
   "outputs": [
    {
     "data": {
      "text/plain": "       track_id  audio_features_acousticness  audio_features_danceability  \\\n0             2                     0.416675                     0.675894   \n1             3                     0.374408                     0.528643   \n2             5                     0.043567                     0.745566   \n3            10                     0.951670                     0.658179   \n4           134                     0.452217                     0.513238   \n...         ...                          ...                          ...   \n13124    124857                     0.007592                     0.790364   \n13125    124862                     0.041498                     0.843077   \n13126    124863                     0.000124                     0.609686   \n13127    124864                     0.327576                     0.574426   \n13128    124911                     0.993606                     0.499339   \n\n       audio_features_energy  audio_features_instrumentalness  \\\n0                   0.634476                         0.010628   \n1                   0.817461                         0.001851   \n2                   0.701470                         0.000697   \n3                   0.924525                         0.965427   \n4                   0.560410                         0.019443   \n...                      ...                              ...   \n13124               0.719288                         0.853114   \n13125               0.536496                         0.865151   \n13126               0.895136                         0.846624   \n13127               0.548327                         0.452867   \n13128               0.050622                         0.945677   \n\n       audio_features_liveness  audio_features_speechiness  \\\n0                     0.177647                    0.159310   \n1                     0.105880                    0.461818   \n2                     0.373143                    0.124595   \n3                     0.115474                    0.032985   \n4                     0.096567                    0.525519   \n...                        ...                         ...   \n13124                 0.720715                    0.082550   \n13125                 0.547949                    0.074001   \n13126                 0.632903                    0.051517   \n13127                 0.075928                    0.033388   \n13128                 0.095965                    0.065189   \n\n       audio_features_tempo  audio_features_valence metadata_album_date  ...  \\\n0                   165.922                0.576661                 NaN  ...   \n1                   126.957                0.269240                 NaN  ...   \n2                   100.260                0.621661                 NaN  ...   \n3                   111.562                0.963590          2008-03-11  ...   \n4                   114.290                0.894072                 NaN  ...   \n...                     ...                     ...                 ...  ...   \n13124               141.332                0.890461                 NaN  ...   \n13125               101.975                0.476845                 NaN  ...   \n13126               129.996                0.496667                 NaN  ...   \n13127               142.009                0.569274                 NaN  ...   \n13128               119.965                0.204652          2009-10-23  ...   \n\n      pc_echo_61  pc_echo_62 pc_echo_63  pc_echo_64 pc_echo_65 pc_echo_66  \\\n0       0.353559    0.111561  -0.262992   -0.504016   0.604185  -0.128035   \n1       0.611444   -0.878695   0.244091    0.416863   0.594802  -0.338894   \n2       1.318349   -0.753971  -1.039863    0.777191   0.509547   0.417779   \n3      -0.572486    0.454861  -1.059819    1.491763  -1.397941  -0.579548   \n4       0.547149   -0.094636   0.154925   -0.278138   0.315183   0.768817   \n...          ...         ...        ...         ...        ...        ...   \n13124  -0.028087   -0.057589   0.620655   -0.427503   0.640985   0.253803   \n13125   1.174578    0.102255   0.819572    0.209645   0.276500  -0.497789   \n13126   1.033169   -0.566303   0.512557   -0.682360  -0.380061   0.023999   \n13127  -0.262435   -0.174925  -0.055767    0.459823   0.147709   0.412693   \n13128  -1.354396   -0.350626   0.959726   -1.051881  -0.381021   0.000601   \n\n       pc_echo_67  pc_echo_68  pc_echo_69  pc_echo_70  \n0       -0.608444   -0.370103   -0.411444   -0.955747  \n1       -0.034221   -1.845181   -0.276950    0.296630  \n2       -0.091032   -1.025886    0.068314   -0.272380  \n3        0.327253   -0.043924    1.003379   -0.564259  \n4       -0.381592    0.186775   -0.449920    0.061162  \n...           ...         ...         ...         ...  \n13124    0.077692   -0.012697    0.109495   -0.648873  \n13125    0.424493   -0.239482    0.408978    1.193789  \n13126   -0.741503    0.144168   -0.182448    0.207433  \n13127    0.162588   -0.276375    0.841430    0.173692  \n13128    0.944843    0.271965    2.782813   -1.435440  \n\n[13129 rows x 97 columns]",
      "text/html": "<div>\n<style scoped>\n    .dataframe tbody tr th:only-of-type {\n        vertical-align: middle;\n    }\n\n    .dataframe tbody tr th {\n        vertical-align: top;\n    }\n\n    .dataframe thead th {\n        text-align: right;\n    }\n</style>\n<table border=\"1\" class=\"dataframe\">\n  <thead>\n    <tr style=\"text-align: right;\">\n      <th></th>\n      <th>track_id</th>\n      <th>audio_features_acousticness</th>\n      <th>audio_features_danceability</th>\n      <th>audio_features_energy</th>\n      <th>audio_features_instrumentalness</th>\n      <th>audio_features_liveness</th>\n      <th>audio_features_speechiness</th>\n      <th>audio_features_tempo</th>\n      <th>audio_features_valence</th>\n      <th>metadata_album_date</th>\n      <th>...</th>\n      <th>pc_echo_61</th>\n      <th>pc_echo_62</th>\n      <th>pc_echo_63</th>\n      <th>pc_echo_64</th>\n      <th>pc_echo_65</th>\n      <th>pc_echo_66</th>\n      <th>pc_echo_67</th>\n      <th>pc_echo_68</th>\n      <th>pc_echo_69</th>\n      <th>pc_echo_70</th>\n    </tr>\n  </thead>\n  <tbody>\n    <tr>\n      <th>0</th>\n      <td>2</td>\n      <td>0.416675</td>\n      <td>0.675894</td>\n      <td>0.634476</td>\n      <td>0.010628</td>\n      <td>0.177647</td>\n      <td>0.159310</td>\n      <td>165.922</td>\n      <td>0.576661</td>\n      <td>NaN</td>\n      <td>...</td>\n      <td>0.353559</td>\n      <td>0.111561</td>\n      <td>-0.262992</td>\n      <td>-0.504016</td>\n      <td>0.604185</td>\n      <td>-0.128035</td>\n      <td>-0.608444</td>\n      <td>-0.370103</td>\n      <td>-0.411444</td>\n      <td>-0.955747</td>\n    </tr>\n    <tr>\n      <th>1</th>\n      <td>3</td>\n      <td>0.374408</td>\n      <td>0.528643</td>\n      <td>0.817461</td>\n      <td>0.001851</td>\n      <td>0.105880</td>\n      <td>0.461818</td>\n      <td>126.957</td>\n      <td>0.269240</td>\n      <td>NaN</td>\n      <td>...</td>\n      <td>0.611444</td>\n      <td>-0.878695</td>\n      <td>0.244091</td>\n      <td>0.416863</td>\n      <td>0.594802</td>\n      <td>-0.338894</td>\n      <td>-0.034221</td>\n      <td>-1.845181</td>\n      <td>-0.276950</td>\n      <td>0.296630</td>\n    </tr>\n    <tr>\n      <th>2</th>\n      <td>5</td>\n      <td>0.043567</td>\n      <td>0.745566</td>\n      <td>0.701470</td>\n      <td>0.000697</td>\n      <td>0.373143</td>\n      <td>0.124595</td>\n      <td>100.260</td>\n      <td>0.621661</td>\n      <td>NaN</td>\n      <td>...</td>\n      <td>1.318349</td>\n      <td>-0.753971</td>\n      <td>-1.039863</td>\n      <td>0.777191</td>\n      <td>0.509547</td>\n      <td>0.417779</td>\n      <td>-0.091032</td>\n      <td>-1.025886</td>\n      <td>0.068314</td>\n      <td>-0.272380</td>\n    </tr>\n    <tr>\n      <th>3</th>\n      <td>10</td>\n      <td>0.951670</td>\n      <td>0.658179</td>\n      <td>0.924525</td>\n      <td>0.965427</td>\n      <td>0.115474</td>\n      <td>0.032985</td>\n      <td>111.562</td>\n      <td>0.963590</td>\n      <td>2008-03-11</td>\n      <td>...</td>\n      <td>-0.572486</td>\n      <td>0.454861</td>\n      <td>-1.059819</td>\n      <td>1.491763</td>\n      <td>-1.397941</td>\n      <td>-0.579548</td>\n      <td>0.327253</td>\n      <td>-0.043924</td>\n      <td>1.003379</td>\n      <td>-0.564259</td>\n    </tr>\n    <tr>\n      <th>4</th>\n      <td>134</td>\n      <td>0.452217</td>\n      <td>0.513238</td>\n      <td>0.560410</td>\n      <td>0.019443</td>\n      <td>0.096567</td>\n      <td>0.525519</td>\n      <td>114.290</td>\n      <td>0.894072</td>\n      <td>NaN</td>\n      <td>...</td>\n      <td>0.547149</td>\n      <td>-0.094636</td>\n      <td>0.154925</td>\n      <td>-0.278138</td>\n      <td>0.315183</td>\n      <td>0.768817</td>\n      <td>-0.381592</td>\n      <td>0.186775</td>\n      <td>-0.449920</td>\n      <td>0.061162</td>\n    </tr>\n    <tr>\n      <th>...</th>\n      <td>...</td>\n      <td>...</td>\n      <td>...</td>\n      <td>...</td>\n      <td>...</td>\n      <td>...</td>\n      <td>...</td>\n      <td>...</td>\n      <td>...</td>\n      <td>...</td>\n      <td>...</td>\n      <td>...</td>\n      <td>...</td>\n      <td>...</td>\n      <td>...</td>\n      <td>...</td>\n      <td>...</td>\n      <td>...</td>\n      <td>...</td>\n      <td>...</td>\n      <td>...</td>\n    </tr>\n    <tr>\n      <th>13124</th>\n      <td>124857</td>\n      <td>0.007592</td>\n      <td>0.790364</td>\n      <td>0.719288</td>\n      <td>0.853114</td>\n      <td>0.720715</td>\n      <td>0.082550</td>\n      <td>141.332</td>\n      <td>0.890461</td>\n      <td>NaN</td>\n      <td>...</td>\n      <td>-0.028087</td>\n      <td>-0.057589</td>\n      <td>0.620655</td>\n      <td>-0.427503</td>\n      <td>0.640985</td>\n      <td>0.253803</td>\n      <td>0.077692</td>\n      <td>-0.012697</td>\n      <td>0.109495</td>\n      <td>-0.648873</td>\n    </tr>\n    <tr>\n      <th>13125</th>\n      <td>124862</td>\n      <td>0.041498</td>\n      <td>0.843077</td>\n      <td>0.536496</td>\n      <td>0.865151</td>\n      <td>0.547949</td>\n      <td>0.074001</td>\n      <td>101.975</td>\n      <td>0.476845</td>\n      <td>NaN</td>\n      <td>...</td>\n      <td>1.174578</td>\n      <td>0.102255</td>\n      <td>0.819572</td>\n      <td>0.209645</td>\n      <td>0.276500</td>\n      <td>-0.497789</td>\n      <td>0.424493</td>\n      <td>-0.239482</td>\n      <td>0.408978</td>\n      <td>1.193789</td>\n    </tr>\n    <tr>\n      <th>13126</th>\n      <td>124863</td>\n      <td>0.000124</td>\n      <td>0.609686</td>\n      <td>0.895136</td>\n      <td>0.846624</td>\n      <td>0.632903</td>\n      <td>0.051517</td>\n      <td>129.996</td>\n      <td>0.496667</td>\n      <td>NaN</td>\n      <td>...</td>\n      <td>1.033169</td>\n      <td>-0.566303</td>\n      <td>0.512557</td>\n      <td>-0.682360</td>\n      <td>-0.380061</td>\n      <td>0.023999</td>\n      <td>-0.741503</td>\n      <td>0.144168</td>\n      <td>-0.182448</td>\n      <td>0.207433</td>\n    </tr>\n    <tr>\n      <th>13127</th>\n      <td>124864</td>\n      <td>0.327576</td>\n      <td>0.574426</td>\n      <td>0.548327</td>\n      <td>0.452867</td>\n      <td>0.075928</td>\n      <td>0.033388</td>\n      <td>142.009</td>\n      <td>0.569274</td>\n      <td>NaN</td>\n      <td>...</td>\n      <td>-0.262435</td>\n      <td>-0.174925</td>\n      <td>-0.055767</td>\n      <td>0.459823</td>\n      <td>0.147709</td>\n      <td>0.412693</td>\n      <td>0.162588</td>\n      <td>-0.276375</td>\n      <td>0.841430</td>\n      <td>0.173692</td>\n    </tr>\n    <tr>\n      <th>13128</th>\n      <td>124911</td>\n      <td>0.993606</td>\n      <td>0.499339</td>\n      <td>0.050622</td>\n      <td>0.945677</td>\n      <td>0.095965</td>\n      <td>0.065189</td>\n      <td>119.965</td>\n      <td>0.204652</td>\n      <td>2009-10-23</td>\n      <td>...</td>\n      <td>-1.354396</td>\n      <td>-0.350626</td>\n      <td>0.959726</td>\n      <td>-1.051881</td>\n      <td>-0.381021</td>\n      <td>0.000601</td>\n      <td>0.944843</td>\n      <td>0.271965</td>\n      <td>2.782813</td>\n      <td>-1.435440</td>\n    </tr>\n  </tbody>\n</table>\n<p>13129 rows × 97 columns</p>\n</div>"
     },
     "execution_count": 53,
     "metadata": {},
     "output_type": "execute_result"
    }
   ],
   "source": [
    "echo_final = pd.concat([echo_cp[other_col], pc_echo_df], axis=1)\n",
    "echo_final"
   ],
   "metadata": {
    "collapsed": false,
    "pycharm": {
     "name": "#%%\n"
    }
   }
  },
  {
   "cell_type": "code",
   "execution_count": 54,
   "outputs": [
    {
     "name": "stdout",
     "output_type": "stream",
     "text": [
      "<class 'pandas.core.frame.DataFrame'>\n",
      "RangeIndex: 13129 entries, 0 to 13128\n",
      "Data columns (total 97 columns):\n",
      " #   Column                              Non-Null Count  Dtype  \n",
      "---  ------                              --------------  -----  \n",
      " 0   track_id                            13129 non-null  int64  \n",
      " 1   audio_features_acousticness         13129 non-null  float64\n",
      " 2   audio_features_danceability         13129 non-null  float64\n",
      " 3   audio_features_energy               13129 non-null  float64\n",
      " 4   audio_features_instrumentalness     13129 non-null  float64\n",
      " 5   audio_features_liveness             13129 non-null  float64\n",
      " 6   audio_features_speechiness          13129 non-null  float64\n",
      " 7   audio_features_tempo                13129 non-null  float64\n",
      " 8   audio_features_valence              13129 non-null  float64\n",
      " 9   metadata_album_date                 2717 non-null   object \n",
      " 10  metadata_album_name                 2872 non-null   object \n",
      " 11  metadata_artist_latitude            9770 non-null   float64\n",
      " 12  metadata_artist_location            9770 non-null   object \n",
      " 13  metadata_artist_longitude           9770 non-null   float64\n",
      " 14  metadata_artist_name                13129 non-null  object \n",
      " 15  metadata_release                    13129 non-null  object \n",
      " 16  ranks_artist_discovery_rank         2825 non-null   float64\n",
      " 17  ranks_artist_familiarity_rank       2825 non-null   float64\n",
      " 18  ranks_artist_hotttnesss_rank        2824 non-null   float64\n",
      " 19  ranks_song_currency_rank            2033 non-null   float64\n",
      " 20  ranks_song_hotttnesss_rank          2206 non-null   float64\n",
      " 21  social_features_artist_discovery    13129 non-null  float64\n",
      " 22  social_features_artist_familiarity  13129 non-null  float64\n",
      " 23  social_features_artist_hotttnesss   13129 non-null  float64\n",
      " 24  social_features_song_currency       13129 non-null  float64\n",
      " 25  social_features_song_hotttnesss     13129 non-null  float64\n",
      " 26  pc_echo_0                           13129 non-null  float64\n",
      " 27  pc_echo_1                           13129 non-null  float64\n",
      " 28  pc_echo_2                           13129 non-null  float64\n",
      " 29  pc_echo_3                           13129 non-null  float64\n",
      " 30  pc_echo_4                           13129 non-null  float64\n",
      " 31  pc_echo_5                           13129 non-null  float64\n",
      " 32  pc_echo_6                           13129 non-null  float64\n",
      " 33  pc_echo_7                           13129 non-null  float64\n",
      " 34  pc_echo_8                           13129 non-null  float64\n",
      " 35  pc_echo_9                           13129 non-null  float64\n",
      " 36  pc_echo_10                          13129 non-null  float64\n",
      " 37  pc_echo_11                          13129 non-null  float64\n",
      " 38  pc_echo_12                          13129 non-null  float64\n",
      " 39  pc_echo_13                          13129 non-null  float64\n",
      " 40  pc_echo_14                          13129 non-null  float64\n",
      " 41  pc_echo_15                          13129 non-null  float64\n",
      " 42  pc_echo_16                          13129 non-null  float64\n",
      " 43  pc_echo_17                          13129 non-null  float64\n",
      " 44  pc_echo_18                          13129 non-null  float64\n",
      " 45  pc_echo_19                          13129 non-null  float64\n",
      " 46  pc_echo_20                          13129 non-null  float64\n",
      " 47  pc_echo_21                          13129 non-null  float64\n",
      " 48  pc_echo_22                          13129 non-null  float64\n",
      " 49  pc_echo_23                          13129 non-null  float64\n",
      " 50  pc_echo_24                          13129 non-null  float64\n",
      " 51  pc_echo_25                          13129 non-null  float64\n",
      " 52  pc_echo_26                          13129 non-null  float64\n",
      " 53  pc_echo_27                          13129 non-null  float64\n",
      " 54  pc_echo_28                          13129 non-null  float64\n",
      " 55  pc_echo_29                          13129 non-null  float64\n",
      " 56  pc_echo_30                          13129 non-null  float64\n",
      " 57  pc_echo_31                          13129 non-null  float64\n",
      " 58  pc_echo_32                          13129 non-null  float64\n",
      " 59  pc_echo_33                          13129 non-null  float64\n",
      " 60  pc_echo_34                          13129 non-null  float64\n",
      " 61  pc_echo_35                          13129 non-null  float64\n",
      " 62  pc_echo_36                          13129 non-null  float64\n",
      " 63  pc_echo_37                          13129 non-null  float64\n",
      " 64  pc_echo_38                          13129 non-null  float64\n",
      " 65  pc_echo_39                          13129 non-null  float64\n",
      " 66  pc_echo_40                          13129 non-null  float64\n",
      " 67  pc_echo_41                          13129 non-null  float64\n",
      " 68  pc_echo_42                          13129 non-null  float64\n",
      " 69  pc_echo_43                          13129 non-null  float64\n",
      " 70  pc_echo_44                          13129 non-null  float64\n",
      " 71  pc_echo_45                          13129 non-null  float64\n",
      " 72  pc_echo_46                          13129 non-null  float64\n",
      " 73  pc_echo_47                          13129 non-null  float64\n",
      " 74  pc_echo_48                          13129 non-null  float64\n",
      " 75  pc_echo_49                          13129 non-null  float64\n",
      " 76  pc_echo_50                          13129 non-null  float64\n",
      " 77  pc_echo_51                          13129 non-null  float64\n",
      " 78  pc_echo_52                          13129 non-null  float64\n",
      " 79  pc_echo_53                          13129 non-null  float64\n",
      " 80  pc_echo_54                          13129 non-null  float64\n",
      " 81  pc_echo_55                          13129 non-null  float64\n",
      " 82  pc_echo_56                          13129 non-null  float64\n",
      " 83  pc_echo_57                          13129 non-null  float64\n",
      " 84  pc_echo_58                          13129 non-null  float64\n",
      " 85  pc_echo_59                          13129 non-null  float64\n",
      " 86  pc_echo_60                          13129 non-null  float64\n",
      " 87  pc_echo_61                          13129 non-null  float64\n",
      " 88  pc_echo_62                          13129 non-null  float64\n",
      " 89  pc_echo_63                          13129 non-null  float64\n",
      " 90  pc_echo_64                          13129 non-null  float64\n",
      " 91  pc_echo_65                          13129 non-null  float64\n",
      " 92  pc_echo_66                          13129 non-null  float64\n",
      " 93  pc_echo_67                          13129 non-null  float64\n",
      " 94  pc_echo_68                          13129 non-null  float64\n",
      " 95  pc_echo_69                          13129 non-null  float64\n",
      " 96  pc_echo_70                          13129 non-null  float64\n",
      "dtypes: float64(91), int64(1), object(5)\n",
      "memory usage: 9.7+ MB\n"
     ]
    }
   ],
   "source": [
    "echo_final.info()"
   ],
   "metadata": {
    "collapsed": false,
    "pycharm": {
     "name": "#%%\n"
    }
   }
  },
  {
   "cell_type": "markdown",
   "source": [],
   "metadata": {
    "collapsed": false
   }
  },
  {
   "cell_type": "markdown",
   "source": [
    "### PCA on Features"
   ],
   "metadata": {
    "collapsed": false,
    "pycharm": {
     "name": "#%% md\n"
    }
   }
  },
  {
   "cell_type": "markdown",
   "source": [
    "The features dataset has so many columns, and since some of them have a string on their name in common, we are going to apply the PCA separately."
   ],
   "metadata": {
    "collapsed": false
   }
  },
  {
   "cell_type": "code",
   "execution_count": 65,
   "outputs": [],
   "source": [
    "col_temp_chroma = [x for x in feat_cp if x.startswith('chroma')]\n",
    "col_temp_mfcc = [x for x in feat_cp if x.startswith('mfcc')]\n",
    "col_temp_rmse = [x for x in feat_cp if x.startswith('rmse')]\n",
    "col_temp_spectral = [x for x in feat_cp if x.startswith('spectral')]\n",
    "col_temp_tonnetz = [x for x in feat_cp if x.startswith('tonnetz')]\n",
    "col_temp_zcr = [x for x in feat_cp if x.startswith('zcr')]\n",
    "col_temp = col_temp_chroma + col_temp_mfcc + col_temp_rmse + col_temp_spectral + col_temp_tonnetz + col_temp_zcr\n",
    "other_col = [x for x in feat_cp.columns.to_list() if x not in col_temp]"
   ],
   "metadata": {
    "collapsed": false,
    "pycharm": {
     "name": "#%%\n"
    }
   }
  },
  {
   "cell_type": "markdown",
   "source": [
    "##### chroma column"
   ],
   "metadata": {
    "collapsed": false
   }
  },
  {
   "cell_type": "code",
   "source": [
    "print(len(col_temp_chroma))"
   ],
   "metadata": {
    "collapsed": false,
    "pycharm": {
     "name": "#%%\n"
    }
   },
   "execution_count": 66,
   "outputs": [
    {
     "name": "stdout",
     "output_type": "stream",
     "text": [
      "252\n"
     ]
    }
   ]
  },
  {
   "cell_type": "markdown",
   "source": [
    "###### Standardize the Data"
   ],
   "metadata": {
    "collapsed": false
   }
  },
  {
   "cell_type": "code",
   "execution_count": 67,
   "outputs": [],
   "source": [
    "feat_PCA_chroma = feat_cp.loc[:, col_temp_chroma]\n",
    "scaler = StandardScaler()\n",
    "feat_PCA_chroma = scaler.fit_transform(feat_PCA_chroma)"
   ],
   "metadata": {
    "collapsed": false,
    "pycharm": {
     "name": "#%%\n"
    }
   }
  },
  {
   "cell_type": "markdown",
   "source": [
    "###### Apply PCA"
   ],
   "metadata": {
    "collapsed": false
   }
  },
  {
   "cell_type": "code",
   "source": [
    "pca = PCA(0.90)\n",
    "pc_feat_chroma = pca.fit_transform(feat_PCA_chroma)\n",
    "print(pca.explained_variance_ratio_.sum())\n",
    "pca_num = len(pca.components_)\n",
    "print(pca_num)"
   ],
   "metadata": {
    "collapsed": false,
    "pycharm": {
     "name": "#%%\n"
    }
   },
   "execution_count": 68,
   "outputs": [
    {
     "name": "stdout",
     "output_type": "stream",
     "text": [
      "0.9008784979584343\n",
      "69\n"
     ]
    }
   ]
  },
  {
   "cell_type": "code",
   "execution_count": 69,
   "outputs": [],
   "source": [
    "pc_feat_chroma_df = pd.DataFrame(data=pc_feat_chroma, columns=['pc_feat_chroma_'+str(i) for i in range(pca_num)])"
   ],
   "metadata": {
    "collapsed": false,
    "pycharm": {
     "name": "#%%\n"
    }
   }
  },
  {
   "cell_type": "markdown",
   "source": [
    "##### mfcc column"
   ],
   "metadata": {
    "collapsed": false
   }
  },
  {
   "cell_type": "code",
   "execution_count": 70,
   "outputs": [
    {
     "name": "stdout",
     "output_type": "stream",
     "text": [
      "140\n"
     ]
    }
   ],
   "source": [
    "print(len(col_temp_mfcc))"
   ],
   "metadata": {
    "collapsed": false,
    "pycharm": {
     "name": "#%%\n"
    }
   }
  },
  {
   "cell_type": "markdown",
   "source": [
    "###### Standardize the Data"
   ],
   "metadata": {
    "collapsed": false,
    "pycharm": {
     "name": "#%% md\n"
    }
   }
  },
  {
   "cell_type": "code",
   "execution_count": 71,
   "outputs": [],
   "source": [
    "feat_PCA_mfcc = feat_cp.loc[:, col_temp_mfcc]\n",
    "scaler = StandardScaler()\n",
    "feat_PCA_mfcc = scaler.fit_transform(feat_PCA_mfcc)"
   ],
   "metadata": {
    "collapsed": false,
    "pycharm": {
     "name": "#%%\n"
    }
   }
  },
  {
   "cell_type": "markdown",
   "source": [
    "###### Apply PCA"
   ],
   "metadata": {
    "collapsed": false
   }
  },
  {
   "cell_type": "code",
   "execution_count": 72,
   "outputs": [
    {
     "name": "stdout",
     "output_type": "stream",
     "text": [
      "0.900458177630659\n",
      "46\n"
     ]
    }
   ],
   "source": [
    "pca = PCA(0.90)\n",
    "pc_feat_mfcc = pca.fit_transform(feat_PCA_mfcc)\n",
    "print(pca.explained_variance_ratio_.sum())\n",
    "pca_num = len(pca.components_)\n",
    "print(pca_num)"
   ],
   "metadata": {
    "collapsed": false,
    "pycharm": {
     "name": "#%%\n"
    }
   }
  },
  {
   "cell_type": "code",
   "execution_count": 73,
   "outputs": [],
   "source": [
    "pc_feat_mfcc_df = pd.DataFrame(data=pc_feat_mfcc, columns=['pc_feat_mfcc_'+str(i) for i in range(pca_num)])"
   ],
   "metadata": {
    "collapsed": false,
    "pycharm": {
     "name": "#%%\n"
    }
   }
  },
  {
   "cell_type": "markdown",
   "source": [
    "##### rmse column"
   ],
   "metadata": {
    "collapsed": false
   }
  },
  {
   "cell_type": "code",
   "execution_count": 74,
   "outputs": [
    {
     "name": "stdout",
     "output_type": "stream",
     "text": [
      "7\n"
     ]
    }
   ],
   "source": [
    "print(len(col_temp_rmse))"
   ],
   "metadata": {
    "collapsed": false,
    "pycharm": {
     "name": "#%%\n"
    }
   }
  },
  {
   "cell_type": "markdown",
   "source": [
    "###### Standardize the Data"
   ],
   "metadata": {
    "collapsed": false
   }
  },
  {
   "cell_type": "code",
   "execution_count": 75,
   "outputs": [],
   "source": [
    "feat_PCA_rmse = feat_cp.loc[:, col_temp_rmse]\n",
    "scaler = StandardScaler()\n",
    "feat_PCA_rmse = scaler.fit_transform(feat_PCA_rmse)"
   ],
   "metadata": {
    "collapsed": false,
    "pycharm": {
     "name": "#%%\n"
    }
   }
  },
  {
   "cell_type": "markdown",
   "source": [
    "###### Apply PCA"
   ],
   "metadata": {
    "collapsed": false
   }
  },
  {
   "cell_type": "code",
   "execution_count": 76,
   "outputs": [
    {
     "name": "stdout",
     "output_type": "stream",
     "text": [
      "0.9505190980384978\n",
      "4\n"
     ]
    }
   ],
   "source": [
    "pca = PCA(0.90)\n",
    "pc_feat_rmse = pca.fit_transform(feat_PCA_rmse)\n",
    "print(pca.explained_variance_ratio_.sum())\n",
    "pca_num = len(pca.components_)\n",
    "print(pca_num)"
   ],
   "metadata": {
    "collapsed": false,
    "pycharm": {
     "name": "#%%\n"
    }
   }
  },
  {
   "cell_type": "code",
   "execution_count": 77,
   "outputs": [],
   "source": [
    "pc_feat_rmse_df = pd.DataFrame(data=pc_feat_rmse, columns=['pc_feat_rmse_'+str(i) for i in range(pca_num)])"
   ],
   "metadata": {
    "collapsed": false,
    "pycharm": {
     "name": "#%%\n"
    }
   }
  },
  {
   "cell_type": "markdown",
   "source": [
    "##### spectral column"
   ],
   "metadata": {
    "collapsed": false
   }
  },
  {
   "cell_type": "code",
   "execution_count": 78,
   "outputs": [
    {
     "name": "stdout",
     "output_type": "stream",
     "text": [
      "70\n"
     ]
    }
   ],
   "source": [
    "print(len(col_temp_spectral))"
   ],
   "metadata": {
    "collapsed": false,
    "pycharm": {
     "name": "#%%\n"
    }
   }
  },
  {
   "cell_type": "markdown",
   "source": [
    "###### Standardize the Data"
   ],
   "metadata": {
    "collapsed": false
   }
  },
  {
   "cell_type": "code",
   "execution_count": 79,
   "outputs": [],
   "source": [
    "feat_PCA_spectral = feat_cp.loc[:, col_temp_spectral]\n",
    "scaler = StandardScaler()\n",
    "feat_PCA_spectral = scaler.fit_transform(feat_PCA_spectral)"
   ],
   "metadata": {
    "collapsed": false,
    "pycharm": {
     "name": "#%%\n"
    }
   }
  },
  {
   "cell_type": "markdown",
   "source": [
    "###### Apply PCA"
   ],
   "metadata": {
    "collapsed": false
   }
  },
  {
   "cell_type": "code",
   "execution_count": 80,
   "outputs": [
    {
     "name": "stdout",
     "output_type": "stream",
     "text": [
      "0.9056235609376357\n",
      "25\n"
     ]
    }
   ],
   "source": [
    "pca = PCA(0.90)\n",
    "pc_feat_spectral = pca.fit_transform(feat_PCA_spectral)\n",
    "print(pca.explained_variance_ratio_.sum())\n",
    "pca_num = len(pca.components_)\n",
    "print(pca_num)"
   ],
   "metadata": {
    "collapsed": false,
    "pycharm": {
     "name": "#%%\n"
    }
   }
  },
  {
   "cell_type": "code",
   "execution_count": 81,
   "outputs": [],
   "source": [
    "pc_feat_spectral_df = pd.DataFrame(data=pc_feat_spectral, columns=['pc_feat_spectral_'+str(i) for i in range(pca_num)])"
   ],
   "metadata": {
    "collapsed": false,
    "pycharm": {
     "name": "#%%\n"
    }
   }
  },
  {
   "cell_type": "markdown",
   "source": [
    "##### tonnetz column"
   ],
   "metadata": {
    "collapsed": false
   }
  },
  {
   "cell_type": "code",
   "execution_count": 82,
   "outputs": [
    {
     "name": "stdout",
     "output_type": "stream",
     "text": [
      "42\n"
     ]
    }
   ],
   "source": [
    "print(len(col_temp_tonnetz))"
   ],
   "metadata": {
    "collapsed": false,
    "pycharm": {
     "name": "#%%\n"
    }
   }
  },
  {
   "cell_type": "markdown",
   "source": [
    "###### Standardize the Data"
   ],
   "metadata": {
    "collapsed": false
   }
  },
  {
   "cell_type": "code",
   "execution_count": 83,
   "outputs": [],
   "source": [
    "feat_PCA_tonnetz = feat_cp.loc[:, col_temp_tonnetz]\n",
    "scaler = StandardScaler()\n",
    "feat_PCA_tonnetz = scaler.fit_transform(feat_PCA_tonnetz)"
   ],
   "metadata": {
    "collapsed": false,
    "pycharm": {
     "name": "#%%\n"
    }
   }
  },
  {
   "cell_type": "markdown",
   "source": [
    "###### Apply PCA"
   ],
   "metadata": {
    "collapsed": false
   }
  },
  {
   "cell_type": "code",
   "execution_count": 84,
   "outputs": [
    {
     "name": "stdout",
     "output_type": "stream",
     "text": [
      "0.9016426078965258\n",
      "19\n"
     ]
    }
   ],
   "source": [
    "pca = PCA(0.90)\n",
    "pc_feat_tonnetz = pca.fit_transform(feat_PCA_tonnetz)\n",
    "print(pca.explained_variance_ratio_.sum())\n",
    "pca_num = len(pca.components_)\n",
    "print(pca_num)"
   ],
   "metadata": {
    "collapsed": false,
    "pycharm": {
     "name": "#%%\n"
    }
   }
  },
  {
   "cell_type": "code",
   "execution_count": 85,
   "outputs": [],
   "source": [
    "pc_feat_tonnetz_df = pd.DataFrame(data=pc_feat_tonnetz, columns=['pc_feat_tonnetz_'+str(i) for i in range(pca_num)])"
   ],
   "metadata": {
    "collapsed": false,
    "pycharm": {
     "name": "#%%\n"
    }
   }
  },
  {
   "cell_type": "markdown",
   "source": [
    "##### zcr column"
   ],
   "metadata": {
    "collapsed": false
   }
  },
  {
   "cell_type": "code",
   "execution_count": 86,
   "outputs": [
    {
     "name": "stdout",
     "output_type": "stream",
     "text": [
      "7\n"
     ]
    }
   ],
   "source": [
    "print(len(col_temp_zcr))"
   ],
   "metadata": {
    "collapsed": false,
    "pycharm": {
     "name": "#%%\n"
    }
   }
  },
  {
   "cell_type": "markdown",
   "source": [
    "###### Standardize the Data"
   ],
   "metadata": {
    "collapsed": false
   }
  },
  {
   "cell_type": "code",
   "execution_count": 87,
   "outputs": [],
   "source": [
    "feat_PCA_zcr = feat_cp.loc[:, col_temp_zcr]\n",
    "scaler = StandardScaler()\n",
    "feat_PCA_zcr = scaler.fit_transform(feat_PCA_zcr)"
   ],
   "metadata": {
    "collapsed": false,
    "pycharm": {
     "name": "#%%\n"
    }
   }
  },
  {
   "cell_type": "markdown",
   "source": [
    "###### Apply PCA"
   ],
   "metadata": {
    "collapsed": false
   }
  },
  {
   "cell_type": "code",
   "execution_count": 88,
   "outputs": [
    {
     "name": "stdout",
     "output_type": "stream",
     "text": [
      "0.9475564878849736\n",
      "4\n"
     ]
    }
   ],
   "source": [
    "pca = PCA(0.90)\n",
    "pc_feat_zcr = pca.fit_transform(feat_PCA_zcr)\n",
    "print(pca.explained_variance_ratio_.sum())\n",
    "pca_num = len(pca.components_)\n",
    "print(pca_num)"
   ],
   "metadata": {
    "collapsed": false,
    "pycharm": {
     "name": "#%%\n"
    }
   }
  },
  {
   "cell_type": "code",
   "execution_count": 89,
   "outputs": [],
   "source": [
    "pc_feat_zcr_df = pd.DataFrame(data=pc_feat_zcr, columns=['pc_feat_zcr_'+str(i) for i in range(pca_num)])"
   ],
   "metadata": {
    "collapsed": false,
    "pycharm": {
     "name": "#%%\n"
    }
   }
  },
  {
   "cell_type": "markdown",
   "source": [
    "#### Final Features dataset"
   ],
   "metadata": {
    "collapsed": false
   }
  },
  {
   "cell_type": "code",
   "execution_count": 90,
   "outputs": [
    {
     "data": {
      "text/plain": "        track_id  pc_feat_chroma_0  pc_feat_chroma_1  pc_feat_chroma_2  \\\n0              2          0.775576          0.363594          1.361543   \n1              3          2.396017         -2.216482         -5.514670   \n2              5          0.238587         -0.583145         -3.281558   \n3             10          6.340997          1.307150         -4.068519   \n4             20         -1.902813         -1.745450         -2.876881   \n...          ...               ...               ...               ...   \n106569    155316          1.563061         -1.342380          6.758747   \n106570    155317          0.976325         -4.937334          2.160015   \n106571    155318          3.719993         -4.143312          2.385685   \n106572    155319          4.565423         -3.903901          0.804858   \n106573    155320          3.451314         -2.755545         -0.698787   \n\n        pc_feat_chroma_3  pc_feat_chroma_4  pc_feat_chroma_5  \\\n0              -3.699529         -6.147773         -5.360282   \n1              -0.510122          1.642152         -3.034927   \n2              -1.874630         -1.639829         -0.529630   \n3              -2.896113          1.793527         -2.828162   \n4               2.710228         -0.255238          0.354165   \n...                  ...               ...               ...   \n106569         -1.639735          4.023439          2.421908   \n106570          2.554928         -2.190888          6.302024   \n106571         -1.277097          1.464155          1.783208   \n106572          0.306852          1.538969         -1.027913   \n106573          2.824309          0.947577          2.939001   \n\n        pc_feat_chroma_6  pc_feat_chroma_7  pc_feat_chroma_8  ...  \\\n0              -1.897546          2.495594         -0.448821  ...   \n1              -3.248663          2.734878         -0.931649  ...   \n2              -2.849928          1.959087         -0.719294  ...   \n3              -2.905909          1.605703         -0.014508  ...   \n4              -0.259853         -0.680845          1.649494  ...   \n...                  ...               ...               ...  ...   \n106569          6.661562         -0.091210         -1.808362  ...   \n106570         -0.158702          1.094481         -0.163301  ...   \n106571          3.163242          1.525225         -0.570905  ...   \n106572          0.382135          0.735833          0.115947  ...   \n106573          2.222361         -0.642788          0.764591  ...   \n\n        pc_feat_tonnetz_13  pc_feat_tonnetz_14  pc_feat_tonnetz_15  \\\n0                 1.247071           -1.481287           -0.974557   \n1                -1.893135           -0.590861            0.539187   \n2                -1.393036           -3.392923            0.067738   \n3                -0.723196           -0.966325           -1.228191   \n4                -0.820243           -0.194318           -0.568280   \n...                    ...                 ...                 ...   \n106569           -0.259396            0.601070            0.542979   \n106570            0.833649            1.390238           -0.092980   \n106571            0.379637            0.132028           -0.427939   \n106572            0.305969           -0.487434            0.108620   \n106573            0.237984           -0.550480            0.556238   \n\n        pc_feat_tonnetz_16  pc_feat_tonnetz_17  pc_feat_tonnetz_18  \\\n0                 1.478836           -0.802692           -1.134505   \n1                 0.068886           -0.248310           -0.548751   \n2                 2.889566           -2.384271           -1.169644   \n3                -2.836012            0.106454            0.514897   \n4                -1.378036            0.150246           -0.751232   \n...                    ...                 ...                 ...   \n106569            0.643495           -0.633165            0.268631   \n106570           -0.301943            0.478629           -0.241331   \n106571           -0.718780           -0.895336           -0.217903   \n106572           -0.486189           -0.727463            0.095465   \n106573            0.003327           -0.579678           -0.208322   \n\n        pc_feat_zcr_0  pc_feat_zcr_1  pc_feat_zcr_2  pc_feat_zcr_3  \n0           -1.545477       0.216026      -0.536895       0.496658  \n1           -1.577371       0.246390      -0.750121       0.305139  \n2           -0.114501      -0.275687      -0.554619       0.115641  \n3           -0.904230       0.286333      -0.133111       0.686239  \n4            0.209431       0.075854      -0.298410      -0.085887  \n...               ...            ...            ...            ...  \n106569       1.002904      -1.588391       0.458332      -0.144659  \n106570       0.918410      -1.372796       0.139755      -0.050931  \n106571       0.555178      -1.416186       0.351057      -0.013998  \n106572       0.557101      -1.318067       0.685069      -0.064413  \n106573      -2.366025       2.875471      -1.516451      -1.632513  \n\n[106574 rows x 168 columns]",
      "text/html": "<div>\n<style scoped>\n    .dataframe tbody tr th:only-of-type {\n        vertical-align: middle;\n    }\n\n    .dataframe tbody tr th {\n        vertical-align: top;\n    }\n\n    .dataframe thead th {\n        text-align: right;\n    }\n</style>\n<table border=\"1\" class=\"dataframe\">\n  <thead>\n    <tr style=\"text-align: right;\">\n      <th></th>\n      <th>track_id</th>\n      <th>pc_feat_chroma_0</th>\n      <th>pc_feat_chroma_1</th>\n      <th>pc_feat_chroma_2</th>\n      <th>pc_feat_chroma_3</th>\n      <th>pc_feat_chroma_4</th>\n      <th>pc_feat_chroma_5</th>\n      <th>pc_feat_chroma_6</th>\n      <th>pc_feat_chroma_7</th>\n      <th>pc_feat_chroma_8</th>\n      <th>...</th>\n      <th>pc_feat_tonnetz_13</th>\n      <th>pc_feat_tonnetz_14</th>\n      <th>pc_feat_tonnetz_15</th>\n      <th>pc_feat_tonnetz_16</th>\n      <th>pc_feat_tonnetz_17</th>\n      <th>pc_feat_tonnetz_18</th>\n      <th>pc_feat_zcr_0</th>\n      <th>pc_feat_zcr_1</th>\n      <th>pc_feat_zcr_2</th>\n      <th>pc_feat_zcr_3</th>\n    </tr>\n  </thead>\n  <tbody>\n    <tr>\n      <th>0</th>\n      <td>2</td>\n      <td>0.775576</td>\n      <td>0.363594</td>\n      <td>1.361543</td>\n      <td>-3.699529</td>\n      <td>-6.147773</td>\n      <td>-5.360282</td>\n      <td>-1.897546</td>\n      <td>2.495594</td>\n      <td>-0.448821</td>\n      <td>...</td>\n      <td>1.247071</td>\n      <td>-1.481287</td>\n      <td>-0.974557</td>\n      <td>1.478836</td>\n      <td>-0.802692</td>\n      <td>-1.134505</td>\n      <td>-1.545477</td>\n      <td>0.216026</td>\n      <td>-0.536895</td>\n      <td>0.496658</td>\n    </tr>\n    <tr>\n      <th>1</th>\n      <td>3</td>\n      <td>2.396017</td>\n      <td>-2.216482</td>\n      <td>-5.514670</td>\n      <td>-0.510122</td>\n      <td>1.642152</td>\n      <td>-3.034927</td>\n      <td>-3.248663</td>\n      <td>2.734878</td>\n      <td>-0.931649</td>\n      <td>...</td>\n      <td>-1.893135</td>\n      <td>-0.590861</td>\n      <td>0.539187</td>\n      <td>0.068886</td>\n      <td>-0.248310</td>\n      <td>-0.548751</td>\n      <td>-1.577371</td>\n      <td>0.246390</td>\n      <td>-0.750121</td>\n      <td>0.305139</td>\n    </tr>\n    <tr>\n      <th>2</th>\n      <td>5</td>\n      <td>0.238587</td>\n      <td>-0.583145</td>\n      <td>-3.281558</td>\n      <td>-1.874630</td>\n      <td>-1.639829</td>\n      <td>-0.529630</td>\n      <td>-2.849928</td>\n      <td>1.959087</td>\n      <td>-0.719294</td>\n      <td>...</td>\n      <td>-1.393036</td>\n      <td>-3.392923</td>\n      <td>0.067738</td>\n      <td>2.889566</td>\n      <td>-2.384271</td>\n      <td>-1.169644</td>\n      <td>-0.114501</td>\n      <td>-0.275687</td>\n      <td>-0.554619</td>\n      <td>0.115641</td>\n    </tr>\n    <tr>\n      <th>3</th>\n      <td>10</td>\n      <td>6.340997</td>\n      <td>1.307150</td>\n      <td>-4.068519</td>\n      <td>-2.896113</td>\n      <td>1.793527</td>\n      <td>-2.828162</td>\n      <td>-2.905909</td>\n      <td>1.605703</td>\n      <td>-0.014508</td>\n      <td>...</td>\n      <td>-0.723196</td>\n      <td>-0.966325</td>\n      <td>-1.228191</td>\n      <td>-2.836012</td>\n      <td>0.106454</td>\n      <td>0.514897</td>\n      <td>-0.904230</td>\n      <td>0.286333</td>\n      <td>-0.133111</td>\n      <td>0.686239</td>\n    </tr>\n    <tr>\n      <th>4</th>\n      <td>20</td>\n      <td>-1.902813</td>\n      <td>-1.745450</td>\n      <td>-2.876881</td>\n      <td>2.710228</td>\n      <td>-0.255238</td>\n      <td>0.354165</td>\n      <td>-0.259853</td>\n      <td>-0.680845</td>\n      <td>1.649494</td>\n      <td>...</td>\n      <td>-0.820243</td>\n      <td>-0.194318</td>\n      <td>-0.568280</td>\n      <td>-1.378036</td>\n      <td>0.150246</td>\n      <td>-0.751232</td>\n      <td>0.209431</td>\n      <td>0.075854</td>\n      <td>-0.298410</td>\n      <td>-0.085887</td>\n    </tr>\n    <tr>\n      <th>...</th>\n      <td>...</td>\n      <td>...</td>\n      <td>...</td>\n      <td>...</td>\n      <td>...</td>\n      <td>...</td>\n      <td>...</td>\n      <td>...</td>\n      <td>...</td>\n      <td>...</td>\n      <td>...</td>\n      <td>...</td>\n      <td>...</td>\n      <td>...</td>\n      <td>...</td>\n      <td>...</td>\n      <td>...</td>\n      <td>...</td>\n      <td>...</td>\n      <td>...</td>\n      <td>...</td>\n    </tr>\n    <tr>\n      <th>106569</th>\n      <td>155316</td>\n      <td>1.563061</td>\n      <td>-1.342380</td>\n      <td>6.758747</td>\n      <td>-1.639735</td>\n      <td>4.023439</td>\n      <td>2.421908</td>\n      <td>6.661562</td>\n      <td>-0.091210</td>\n      <td>-1.808362</td>\n      <td>...</td>\n      <td>-0.259396</td>\n      <td>0.601070</td>\n      <td>0.542979</td>\n      <td>0.643495</td>\n      <td>-0.633165</td>\n      <td>0.268631</td>\n      <td>1.002904</td>\n      <td>-1.588391</td>\n      <td>0.458332</td>\n      <td>-0.144659</td>\n    </tr>\n    <tr>\n      <th>106570</th>\n      <td>155317</td>\n      <td>0.976325</td>\n      <td>-4.937334</td>\n      <td>2.160015</td>\n      <td>2.554928</td>\n      <td>-2.190888</td>\n      <td>6.302024</td>\n      <td>-0.158702</td>\n      <td>1.094481</td>\n      <td>-0.163301</td>\n      <td>...</td>\n      <td>0.833649</td>\n      <td>1.390238</td>\n      <td>-0.092980</td>\n      <td>-0.301943</td>\n      <td>0.478629</td>\n      <td>-0.241331</td>\n      <td>0.918410</td>\n      <td>-1.372796</td>\n      <td>0.139755</td>\n      <td>-0.050931</td>\n    </tr>\n    <tr>\n      <th>106571</th>\n      <td>155318</td>\n      <td>3.719993</td>\n      <td>-4.143312</td>\n      <td>2.385685</td>\n      <td>-1.277097</td>\n      <td>1.464155</td>\n      <td>1.783208</td>\n      <td>3.163242</td>\n      <td>1.525225</td>\n      <td>-0.570905</td>\n      <td>...</td>\n      <td>0.379637</td>\n      <td>0.132028</td>\n      <td>-0.427939</td>\n      <td>-0.718780</td>\n      <td>-0.895336</td>\n      <td>-0.217903</td>\n      <td>0.555178</td>\n      <td>-1.416186</td>\n      <td>0.351057</td>\n      <td>-0.013998</td>\n    </tr>\n    <tr>\n      <th>106572</th>\n      <td>155319</td>\n      <td>4.565423</td>\n      <td>-3.903901</td>\n      <td>0.804858</td>\n      <td>0.306852</td>\n      <td>1.538969</td>\n      <td>-1.027913</td>\n      <td>0.382135</td>\n      <td>0.735833</td>\n      <td>0.115947</td>\n      <td>...</td>\n      <td>0.305969</td>\n      <td>-0.487434</td>\n      <td>0.108620</td>\n      <td>-0.486189</td>\n      <td>-0.727463</td>\n      <td>0.095465</td>\n      <td>0.557101</td>\n      <td>-1.318067</td>\n      <td>0.685069</td>\n      <td>-0.064413</td>\n    </tr>\n    <tr>\n      <th>106573</th>\n      <td>155320</td>\n      <td>3.451314</td>\n      <td>-2.755545</td>\n      <td>-0.698787</td>\n      <td>2.824309</td>\n      <td>0.947577</td>\n      <td>2.939001</td>\n      <td>2.222361</td>\n      <td>-0.642788</td>\n      <td>0.764591</td>\n      <td>...</td>\n      <td>0.237984</td>\n      <td>-0.550480</td>\n      <td>0.556238</td>\n      <td>0.003327</td>\n      <td>-0.579678</td>\n      <td>-0.208322</td>\n      <td>-2.366025</td>\n      <td>2.875471</td>\n      <td>-1.516451</td>\n      <td>-1.632513</td>\n    </tr>\n  </tbody>\n</table>\n<p>106574 rows × 168 columns</p>\n</div>"
     },
     "execution_count": 90,
     "metadata": {},
     "output_type": "execute_result"
    }
   ],
   "source": [
    "feat_final = pd.concat([feat_cp[other_col], pc_feat_chroma_df, pc_feat_mfcc_df,\n",
    "                        pc_feat_rmse_df, pc_feat_spectral_df, pc_feat_tonnetz_df,\n",
    "                        pc_feat_zcr_df], axis=1)\n",
    "feat_final"
   ],
   "metadata": {
    "collapsed": false,
    "pycharm": {
     "name": "#%%\n"
    }
   }
  },
  {
   "cell_type": "code",
   "execution_count": 91,
   "outputs": [
    {
     "name": "stdout",
     "output_type": "stream",
     "text": [
      "<class 'pandas.core.frame.DataFrame'>\n",
      "RangeIndex: 106574 entries, 0 to 106573\n",
      "Columns: 168 entries, track_id to pc_feat_zcr_3\n",
      "dtypes: float64(167), int64(1)\n",
      "memory usage: 136.6 MB\n"
     ]
    }
   ],
   "source": [
    "feat_final.info()"
   ],
   "metadata": {
    "collapsed": false,
    "pycharm": {
     "name": "#%%\n"
    }
   }
  }
 ],
 "metadata": {
  "interpreter": {
   "hash": "c6e4e9f98eb68ad3b7c296f83d20e6de614cb42e90992a65aa266555a3137d0d"
  },
  "kernelspec": {
   "display_name": "Python 3.9.7 64-bit ('base': conda)",
   "language": "python",
   "name": "python3"
  },
  "language_info": {
   "codemirror_mode": {
    "name": "ipython",
    "version": 3
   },
   "file_extension": ".py",
   "mimetype": "text/x-python",
   "name": "python",
   "nbconvert_exporter": "python",
   "pygments_lexer": "ipython3",
   "version": "3.9.7"
  },
  "orig_nbformat": 4
 },
 "nbformat": 4,
 "nbformat_minor": 2
}