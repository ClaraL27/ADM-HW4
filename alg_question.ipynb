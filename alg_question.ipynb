{
 "cells": [
  {
   "cell_type": "markdown",
   "source": [
    "## 3. Algorithmic questions\n",
    "\n",
    "You are given a list of integers, *A*, and another integer *s*. Write an algorithm that outputs all the pairs in *A* that equal *x*.\n",
    "\n",
    "For example, if\n",
    "```\n",
    "A = [7, -2, 8, 2, 6, 4, -7, 2, 1, 3, -3] and s = 4\n",
    "```\n",
    "the algorithm should output: `(7, -3), (-2, 6), (2, 2), (3, 1)`."
   ],
   "metadata": {
    "collapsed": false
   }
  },
  {
   "cell_type": "code",
   "execution_count": 1,
   "outputs": [],
   "source": [
    "import numpy as np"
   ],
   "metadata": {
    "collapsed": false,
    "pycharm": {
     "name": "#%%\n"
    }
   }
  },
  {
   "cell_type": "markdown",
   "source": [
    "To solve this question, we have written 3 different algorithms, and we have compared them on the level of time complexity. Also, for this task, we thought to remove duplicates elements on the input list, which has a linear cost $O(n)$."
   ],
   "metadata": {
    "collapsed": false
   }
  },
  {
   "cell_type": "markdown",
   "source": [
    "#### Brute Force\n",
    "The time complexity of the algorithm below is $O(n^{2})$, because there are two `for` loops (nested `for`), which basically read all the elements of the list two times (the complexity of a `for` for a list is $O(n)$, with $n$ being the size of the input list)."
   ],
   "metadata": {
    "collapsed": false
   }
  },
  {
   "cell_type": "code",
   "execution_count": 2,
   "metadata": {
    "collapsed": true
   },
   "outputs": [],
   "source": [
    "def find_pairs_n_2(A, s):\n",
    "    tup_list = []\n",
    "    new_a = []\n",
    "    for num in A:\n",
    "        if num not in new_a: new_a.append(num)\n",
    "    for i in range(len(new_a)-1):\n",
    "        for j in range(i+1, len(new_a)):\n",
    "            if new_a[i] + new_a[j] == s:\n",
    "                tup = tuple((new_a[i], new_a[j]))\n",
    "                tup_list.append(tup)\n",
    "    return tup_list"
   ]
  },
  {
   "cell_type": "markdown",
   "source": [
    "#### Sorting\n",
    "The first algorithm is the worst for the complexity, so we need to find another one, and for this case, we wrote the one in the cell below, with time complexity equal to $O(n log(n))$, which sorts in ascending order the input list and uses two indices to search on the list the wanted numbers."
   ],
   "metadata": {
    "collapsed": false
   }
  },
  {
   "cell_type": "code",
   "execution_count": 3,
   "outputs": [],
   "source": [
    "def find_pairs_n_logn(A, s):\n",
    "    tup_list = []\n",
    "    new_a = []\n",
    "    for num in A:\n",
    "        if num not in new_a: new_a.append(num)\n",
    "    new_a.sort()\n",
    "    start = 0\n",
    "    end = len(new_a)-1\n",
    "    while start < end:\n",
    "        if new_a[start] + new_a[end] == s:\n",
    "            tup_list.append((new_a[start], new_a[end]))\n",
    "            start += 1\n",
    "        elif new_a[start] + new_a[end] > s:\n",
    "            end -= 1\n",
    "        else:\n",
    "            start += 1\n",
    "\n",
    "    return tup_list"
   ],
   "metadata": {
    "collapsed": false,
    "pycharm": {
     "name": "#%%\n"
    }
   }
  },
  {
   "cell_type": "markdown",
   "source": [
    "#### Hashing\n",
    "Even though the sorting algorithm is way better than the Brute-Force one, we thought that we could do better, so we wrote an algorithm using a hash table. So we used a dictionary to insert each element of the list in it, because the `in` checking has constant complexity ($O(1)$), resulting in the final complexity of the algorithm as $O(n)$., which at the end is the best so far."
   ],
   "metadata": {
    "collapsed": false
   }
  },
  {
   "cell_type": "code",
   "execution_count": 4,
   "outputs": [],
   "source": [
    "def find_pairs_n(A, s):\n",
    "\n",
    "    d = {}\n",
    "    tup_list = []\n",
    "    new_a = []\n",
    "    for num in A:\n",
    "        if num not in new_a: new_a.append(num)\n",
    "    for i, e in enumerate(new_a):\n",
    "        if s - e in d:\n",
    "            tup_list.append((new_a[d.get(s - e)], new_a[i]))\n",
    "\n",
    "        d[e] = i\n",
    "\n",
    "    return tup_list"
   ],
   "metadata": {
    "collapsed": false,
    "pycharm": {
     "name": "#%%\n"
    }
   }
  },
  {
   "cell_type": "code",
   "execution_count": 9,
   "outputs": [
    {
     "name": "stdout",
     "output_type": "stream",
     "text": [
      "###################################\n",
      "Lenght of the list: 10\n",
      "A = [-4, -1, 3, -3, 2, 7, 1, 3, -2, 3]\n",
      "s = 8\n",
      "[(7, 1)]\n",
      "[(1, 7)]\n",
      "[(7, 1)]\n",
      "2.85 µs ± 357 ns per loop (mean ± std. dev. of 7 runs, 100000 loops each)\n",
      "1.33 µs ± 42 ns per loop (mean ± std. dev. of 7 runs, 1000000 loops each)\n",
      "1.29 µs ± 36.4 ns per loop (mean ± std. dev. of 7 runs, 1000000 loops each)\n",
      "###################################\n",
      "Lenght of the list: 20\n",
      "A = [-7, 10, 14, -7, -2, 7, -2, -6, 11, 8, -12, 15, 1, -12, -12, 0, -5, -1, -9, -8]\n",
      "s = 16\n",
      "[(15, 1)]\n",
      "[(1, 15)]\n",
      "[(15, 1)]\n",
      "7.29 µs ± 48.9 ns per loop (mean ± std. dev. of 7 runs, 100000 loops each)\n",
      "2.84 µs ± 49.1 ns per loop (mean ± std. dev. of 7 runs, 100000 loops each)\n",
      "2.68 µs ± 20.2 ns per loop (mean ± std. dev. of 7 runs, 100000 loops each)\n",
      "###################################\n",
      "Lenght of the list: 30\n",
      "A = [14, 22, -10, -3, 8, -16, 16, -2, 16, 8, -14, -18, 18, -5, -1, 7, -11, -14, -20, -12, 10, 1, 16, -8, -13, 11, -14, 11, -11, -16]\n",
      "s = 22\n",
      "[(14, 8)]\n",
      "[(8, 14)]\n",
      "[(14, 8)]\n",
      "13.1 µs ± 220 ns per loop (mean ± std. dev. of 7 runs, 100000 loops each)\n",
      "4.54 µs ± 49.1 ns per loop (mean ± std. dev. of 7 runs, 100000 loops each)\n",
      "4.65 µs ± 253 ns per loop (mean ± std. dev. of 7 runs, 100000 loops each)\n",
      "###################################\n",
      "Lenght of the list: 40\n",
      "A = [-26, 13, 17, -20, -11, -13, -5, -3, -25, -24, 24, 10, -6, 6, 7, -12, 0, 0, 1, -8, -22, -19, 22, 4, 18, 15, 20, 20, 25, -4, -25, -8, -23, -28, 5, -28, -12, -22, -11, 8]\n",
      "s = 24\n",
      "[(17, 7), (24, 0), (6, 18), (4, 20)]\n",
      "[(0, 24), (4, 20), (6, 18), (7, 17)]\n",
      "[(17, 7), (24, 0), (6, 18), (4, 20)]\n",
      "25.8 µs ± 213 ns per loop (mean ± std. dev. of 7 runs, 10000 loops each)\n",
      "7.75 µs ± 148 ns per loop (mean ± std. dev. of 7 runs, 100000 loops each)\n",
      "7.43 µs ± 124 ns per loop (mean ± std. dev. of 7 runs, 100000 loops each)\n",
      "###################################\n",
      "Lenght of the list: 50\n",
      "A = [3, 5, 21, -13, 30, -26, 6, 15, 7, -28, -25, -34, 7, 15, -35, -9, 17, -31, -4, -1, -8, -17, -12, -7, -32, 36, -35, 29, 3, -22, -7, -5, 8, -5, 1, 25, 26, 13, 6, 16, 31, 37, 31, 5, 6, 12, -2, -19, -13, -27]\n",
      "s = 18\n",
      "[(3, 15), (5, 13), (-13, 31), (30, -12), (6, 12), (17, 1), (-8, 26), (-7, 25), (37, -19)]\n",
      "[(-19, 37), (-13, 31), (-12, 30), (-8, 26), (-7, 25), (1, 17), (3, 15), (5, 13), (6, 12)]\n",
      "[(3, 15), (30, -12), (17, 1), (-7, 25), (-8, 26), (5, 13), (-13, 31), (6, 12), (37, -19)]\n",
      "36.8 µs ± 965 ns per loop (mean ± std. dev. of 7 runs, 10000 loops each)\n",
      "10.1 µs ± 85.4 ns per loop (mean ± std. dev. of 7 runs, 100000 loops each)\n",
      "9.98 µs ± 119 ns per loop (mean ± std. dev. of 7 runs, 100000 loops each)\n",
      "###################################\n"
     ]
    }
   ],
   "source": [
    "print('###################################')\n",
    "\n",
    "for i in range(1, 6):\n",
    "    n = i*10\n",
    "    A = np.random.randint(-(n-i*3), n-i*2, n).tolist()\n",
    "    s = n-2**i\n",
    "    print(\"Lenght of the list:\", n)\n",
    "    print(\"A =\", A)\n",
    "    print(\"s =\", s)\n",
    "\n",
    "    pairs_n_2 = find_pairs_n_2(A, s)\n",
    "    print(pairs_n_2)\n",
    "    pairs_n_logn = find_pairs_n_logn(A, s)\n",
    "    print(pairs_n_logn)\n",
    "    pairs_n = find_pairs_n(A, s)\n",
    "    print(pairs_n)\n",
    "    %timeit find_pairs_n_2(A, s)\n",
    "    %timeit find_pairs_n_logn(A, s)\n",
    "    %timeit find_pairs_n(A, s)\n",
    "    print('###################################')\n"
   ],
   "metadata": {
    "collapsed": false,
    "pycharm": {
     "name": "#%%\n"
    }
   }
  }
 ],
 "metadata": {
  "kernelspec": {
   "display_name": "Python 3",
   "language": "python",
   "name": "python3"
  },
  "language_info": {
   "codemirror_mode": {
    "name": "ipython",
    "version": 2
   },
   "file_extension": ".py",
   "mimetype": "text/x-python",
   "name": "python",
   "nbconvert_exporter": "python",
   "pygments_lexer": "ipython2",
   "version": "2.7.6"
  }
 },
 "nbformat": 4,
 "nbformat_minor": 0
}