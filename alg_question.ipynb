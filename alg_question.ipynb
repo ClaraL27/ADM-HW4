{
 "cells": [
  {
   "cell_type": "markdown",
   "source": [
    "## 3. Algorithmic questions\n",
    "\n",
    "You are given a list of integers, *A*, and another integer *s*. Write an algorithm that outputs all the pairs in *A* that equal *x*.\n",
    "\n",
    "For example, if\n",
    "```\n",
    "A = [7, -2, 8, 2, 6, 4, -7, 2, 1, 3, -3] and s = 4\n",
    "```\n",
    "the algorithm should output: `(7, -3), (-2, 6), (2, 2), (3, 1)`."
   ],
   "metadata": {
    "collapsed": false
   }
  },
  {
   "cell_type": "code",
   "execution_count": 1,
   "outputs": [],
   "source": [
    "import numpy as np"
   ],
   "metadata": {
    "collapsed": false,
    "pycharm": {
     "name": "#%%\n"
    }
   }
  },
  {
   "cell_type": "code",
   "execution_count": 2,
   "metadata": {
    "collapsed": true
   },
   "outputs": [],
   "source": [
    "def find_pairs_n_2(A, s):\n",
    "    tup_list = []\n",
    "    for i in range(len(A)-1):\n",
    "        for j in range(i+1, len(A)):\n",
    "            if A[i] + A[j] == s:\n",
    "                tup = tuple((A[i], A[j]))\n",
    "                tup_list.append(tup)\n",
    "    return tup_list"
   ]
  },
  {
   "cell_type": "code",
   "execution_count": 5,
   "outputs": [],
   "source": [
    "def find_pairs_n_logn(A, s):\n",
    "    tup_list = []\n",
    "    A.sort()\n",
    "    start = 0\n",
    "    end = len(A)-1\n",
    "    while start < end:\n",
    "        if A[start] + A[end] == s:\n",
    "            tup_list.append((A[start], A[end]))\n",
    "            start += 1\n",
    "        elif A[start] + A[end] > s:\n",
    "            end -= 1\n",
    "        else:\n",
    "            start += 1\n",
    "\n",
    "    return tup_list"
   ],
   "metadata": {
    "collapsed": false,
    "pycharm": {
     "name": "#%%\n"
    }
   }
  },
  {
   "cell_type": "code",
   "execution_count": 7,
   "outputs": [
    {
     "name": "stdout",
     "output_type": "stream",
     "text": [
      "###################################\n",
      "5\n",
      "[19, 8, 18, 10, 15]\n",
      "[]\n",
      "[]\n",
      "###################################\n",
      "###################################\n",
      "10\n",
      "[-1, -3, 10, -7, 1, 2, -2, -8, 18, 17]\n",
      "[(-3, 18), (-2, 17)]\n",
      "[(-3, 18), (-2, 17)]\n",
      "###################################\n",
      "###################################\n",
      "15\n",
      "[-11, -8, -3, -3, 9, -16, -4, 4, -13, 11, 1, 9, 2, 3, 12]\n",
      "[(4, 11), (3, 12)]\n",
      "[(3, 12), (4, 11)]\n",
      "###################################\n",
      "###################################\n",
      "20\n",
      "[19, 14, 13, 4, -5, 17, 6, -9, -10, -8, -5, 1, 1, -16, -14, 16, 17, -19, 3, -10]\n",
      "[(14, 1), (14, 1)]\n",
      "[(1, 14), (1, 14)]\n",
      "###################################\n",
      "###################################\n",
      "25\n",
      "[2, -3, -20, 0, 9, -7, 1, -1, -20, -15, 3, 14, -13, -2, -16, 2, -6, -19, -20, -19, 6, -18, 1, -6, -17]\n",
      "[(9, 6), (1, 14), (14, 1)]\n",
      "[(1, 14), (1, 14), (6, 9)]\n",
      "###################################\n"
     ]
    }
   ],
   "source": [
    "for i in range(1, 6):\n",
    "    len_A = i*5\n",
    "    A = np.random.randint(-20, 20, len_A).tolist()\n",
    "    print('###################################')\n",
    "    print(len_A)\n",
    "    print(A)\n",
    "    s = 15\n",
    "    pairs_n_2 = find_pairs_n_2(A, s)\n",
    "    print(pairs_n_2)\n",
    "    pairs_n_logn = find_pairs_n_logn(A, s)\n",
    "    print(pairs_n_logn)\n",
    "    print('###################################')\n"
   ],
   "metadata": {
    "collapsed": false,
    "pycharm": {
     "name": "#%%\n"
    }
   }
  }
 ],
 "metadata": {
  "kernelspec": {
   "display_name": "Python 3",
   "language": "python",
   "name": "python3"
  },
  "language_info": {
   "codemirror_mode": {
    "name": "ipython",
    "version": 2
   },
   "file_extension": ".py",
   "mimetype": "text/x-python",
   "name": "python",
   "nbconvert_exporter": "python",
   "pygments_lexer": "ipython2",
   "version": "2.7.6"
  }
 },
 "nbformat": 4,
 "nbformat_minor": 0
}